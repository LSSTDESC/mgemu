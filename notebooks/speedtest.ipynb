{
 "cells": [
  {
   "cell_type": "code",
   "execution_count": 1,
   "metadata": {},
   "outputs": [],
   "source": [
    "import warnings\n",
    "warnings.filterwarnings('ignore')\n",
    "import gc"
   ]
  },
  {
   "cell_type": "code",
   "execution_count": 2,
   "metadata": {},
   "outputs": [
    {
     "name": "stdout",
     "output_type": "stream",
     "text": [
      "WARNING:tensorflow:From /n/home02/gvalogiannis/.local/lib/python3.6/site-packages/gpflow-1.5.1-py3.6.egg/gpflow/session_manager.py:31: The name tf.Session is deprecated. Please use tf.compat.v1.Session instead.\n",
      "\n"
     ]
    },
    {
     "name": "stderr",
     "output_type": "stream",
     "text": [
      "WARNING:tensorflow:From /n/home02/gvalogiannis/.local/lib/python3.6/site-packages/gpflow-1.5.1-py3.6.egg/gpflow/session_manager.py:31: The name tf.Session is deprecated. Please use tf.compat.v1.Session instead.\n",
      "\n"
     ]
    },
    {
     "name": "stdout",
     "output_type": "stream",
     "text": [
      "WARNING:tensorflow:From /n/home02/gvalogiannis/.local/lib/python3.6/site-packages/gpflow-1.5.1-py3.6.egg/gpflow/misc.py:27: The name tf.GraphKeys is deprecated. Please use tf.compat.v1.GraphKeys instead.\n",
      "\n"
     ]
    },
    {
     "name": "stderr",
     "output_type": "stream",
     "text": [
      "WARNING:tensorflow:From /n/home02/gvalogiannis/.local/lib/python3.6/site-packages/gpflow-1.5.1-py3.6.egg/gpflow/misc.py:27: The name tf.GraphKeys is deprecated. Please use tf.compat.v1.GraphKeys instead.\n",
      "\n"
     ]
    },
    {
     "name": "stdout",
     "output_type": "stream",
     "text": [
      "WARNING:tensorflow:From /n/home02/gvalogiannis/.local/lib/python3.6/site-packages/gpflow-1.5.1-py3.6.egg/gpflow/training/tensorflow_optimizer.py:169: The name tf.train.AdadeltaOptimizer is deprecated. Please use tf.compat.v1.train.AdadeltaOptimizer instead.\n",
      "\n"
     ]
    },
    {
     "name": "stderr",
     "output_type": "stream",
     "text": [
      "WARNING:tensorflow:From /n/home02/gvalogiannis/.local/lib/python3.6/site-packages/gpflow-1.5.1-py3.6.egg/gpflow/training/tensorflow_optimizer.py:169: The name tf.train.AdadeltaOptimizer is deprecated. Please use tf.compat.v1.train.AdadeltaOptimizer instead.\n",
      "\n"
     ]
    },
    {
     "name": "stdout",
     "output_type": "stream",
     "text": [
      "WARNING:tensorflow:From /n/home02/gvalogiannis/.local/lib/python3.6/site-packages/gpflow-1.5.1-py3.6.egg/gpflow/training/tensorflow_optimizer.py:156: The name tf.train.Optimizer is deprecated. Please use tf.compat.v1.train.Optimizer instead.\n",
      "\n"
     ]
    },
    {
     "name": "stderr",
     "output_type": "stream",
     "text": [
      "WARNING:tensorflow:From /n/home02/gvalogiannis/.local/lib/python3.6/site-packages/gpflow-1.5.1-py3.6.egg/gpflow/training/tensorflow_optimizer.py:156: The name tf.train.Optimizer is deprecated. Please use tf.compat.v1.train.Optimizer instead.\n",
      "\n"
     ]
    },
    {
     "name": "stdout",
     "output_type": "stream",
     "text": [
      "WARNING:tensorflow:From /n/home02/gvalogiannis/.local/lib/python3.6/site-packages/gpflow-1.5.1-py3.6.egg/gpflow/training/tensorflow_optimizer.py:169: The name tf.train.AdagradDAOptimizer is deprecated. Please use tf.compat.v1.train.AdagradDAOptimizer instead.\n",
      "\n"
     ]
    },
    {
     "name": "stderr",
     "output_type": "stream",
     "text": [
      "WARNING:tensorflow:From /n/home02/gvalogiannis/.local/lib/python3.6/site-packages/gpflow-1.5.1-py3.6.egg/gpflow/training/tensorflow_optimizer.py:169: The name tf.train.AdagradDAOptimizer is deprecated. Please use tf.compat.v1.train.AdagradDAOptimizer instead.\n",
      "\n"
     ]
    },
    {
     "name": "stdout",
     "output_type": "stream",
     "text": [
      "WARNING:tensorflow:From /n/home02/gvalogiannis/.local/lib/python3.6/site-packages/gpflow-1.5.1-py3.6.egg/gpflow/training/tensorflow_optimizer.py:169: The name tf.train.AdagradOptimizer is deprecated. Please use tf.compat.v1.train.AdagradOptimizer instead.\n",
      "\n"
     ]
    },
    {
     "name": "stderr",
     "output_type": "stream",
     "text": [
      "WARNING:tensorflow:From /n/home02/gvalogiannis/.local/lib/python3.6/site-packages/gpflow-1.5.1-py3.6.egg/gpflow/training/tensorflow_optimizer.py:169: The name tf.train.AdagradOptimizer is deprecated. Please use tf.compat.v1.train.AdagradOptimizer instead.\n",
      "\n"
     ]
    },
    {
     "name": "stdout",
     "output_type": "stream",
     "text": [
      "WARNING:tensorflow:From /n/home02/gvalogiannis/.local/lib/python3.6/site-packages/gpflow-1.5.1-py3.6.egg/gpflow/training/tensorflow_optimizer.py:169: The name tf.train.AdamOptimizer is deprecated. Please use tf.compat.v1.train.AdamOptimizer instead.\n",
      "\n"
     ]
    },
    {
     "name": "stderr",
     "output_type": "stream",
     "text": [
      "WARNING:tensorflow:From /n/home02/gvalogiannis/.local/lib/python3.6/site-packages/gpflow-1.5.1-py3.6.egg/gpflow/training/tensorflow_optimizer.py:169: The name tf.train.AdamOptimizer is deprecated. Please use tf.compat.v1.train.AdamOptimizer instead.\n",
      "\n"
     ]
    },
    {
     "name": "stdout",
     "output_type": "stream",
     "text": [
      "WARNING:tensorflow:From /n/home02/gvalogiannis/.local/lib/python3.6/site-packages/gpflow-1.5.1-py3.6.egg/gpflow/saver/coders.py:80: The name tf.data.Iterator is deprecated. Please use tf.compat.v1.data.Iterator instead.\n",
      "\n"
     ]
    },
    {
     "name": "stderr",
     "output_type": "stream",
     "text": [
      "WARNING:tensorflow:From /n/home02/gvalogiannis/.local/lib/python3.6/site-packages/gpflow-1.5.1-py3.6.egg/gpflow/saver/coders.py:80: The name tf.data.Iterator is deprecated. Please use tf.compat.v1.data.Iterator instead.\n",
      "\n"
     ]
    },
    {
     "ename": "OSError",
     "evalue": "Unable to create file (unable to open file: name = '/n/home02/gvalogiannis/.local/lib/python3.6/site-packages/mgemu-1.0-py3.6.egg/mgemu/models/GP_smooth_rank6snap0', errno = 17, error message = 'File exists', flags = 15, o_flags = c2)",
     "output_type": "error",
     "traceback": [
      "\u001b[0;31m---------------------------------------------------------------------------\u001b[0m",
      "\u001b[0;31mOSError\u001b[0m                                   Traceback (most recent call last)",
      "\u001b[0;32m~/.local/lib/python3.6/site-packages/h5py/_hl/files.py\u001b[0m in \u001b[0;36mmake_fid\u001b[0;34m(name, mode, userblock_size, fapl, fcpl, swmr)\u001b[0m\n\u001b[1;32m    189\u001b[0m         \u001b[0;32mtry\u001b[0m\u001b[0;34m:\u001b[0m\u001b[0;34m\u001b[0m\u001b[0;34m\u001b[0m\u001b[0m\n\u001b[0;32m--> 190\u001b[0;31m             \u001b[0mfid\u001b[0m \u001b[0;34m=\u001b[0m \u001b[0mh5f\u001b[0m\u001b[0;34m.\u001b[0m\u001b[0mopen\u001b[0m\u001b[0;34m(\u001b[0m\u001b[0mname\u001b[0m\u001b[0;34m,\u001b[0m \u001b[0mh5f\u001b[0m\u001b[0;34m.\u001b[0m\u001b[0mACC_RDWR\u001b[0m\u001b[0;34m,\u001b[0m \u001b[0mfapl\u001b[0m\u001b[0;34m=\u001b[0m\u001b[0mfapl\u001b[0m\u001b[0;34m)\u001b[0m\u001b[0;34m\u001b[0m\u001b[0;34m\u001b[0m\u001b[0m\n\u001b[0m\u001b[1;32m    191\u001b[0m         \u001b[0;32mexcept\u001b[0m \u001b[0mIOError\u001b[0m\u001b[0;34m:\u001b[0m\u001b[0;34m\u001b[0m\u001b[0;34m\u001b[0m\u001b[0m\n",
      "\u001b[0;32mh5py/_objects.pyx\u001b[0m in \u001b[0;36mh5py._objects.with_phil.wrapper\u001b[0;34m()\u001b[0m\n",
      "\u001b[0;32mh5py/_objects.pyx\u001b[0m in \u001b[0;36mh5py._objects.with_phil.wrapper\u001b[0;34m()\u001b[0m\n",
      "\u001b[0;32mh5py/h5f.pyx\u001b[0m in \u001b[0;36mh5py.h5f.open\u001b[0;34m()\u001b[0m\n",
      "\u001b[0;31mOSError\u001b[0m: Unable to open file (unable to lock file, errno = 11, error message = 'Resource temporarily unavailable')",
      "\nDuring handling of the above exception, another exception occurred:\n",
      "\u001b[0;31mOSError\u001b[0m                                   Traceback (most recent call last)",
      "\u001b[0;32m~/.local/lib/python3.6/site-packages/h5py/_hl/files.py\u001b[0m in \u001b[0;36mmake_fid\u001b[0;34m(name, mode, userblock_size, fapl, fcpl, swmr)\u001b[0m\n\u001b[1;32m    192\u001b[0m             \u001b[0;32mtry\u001b[0m\u001b[0;34m:\u001b[0m\u001b[0;34m\u001b[0m\u001b[0;34m\u001b[0m\u001b[0m\n\u001b[0;32m--> 193\u001b[0;31m                 \u001b[0mfid\u001b[0m \u001b[0;34m=\u001b[0m \u001b[0mh5f\u001b[0m\u001b[0;34m.\u001b[0m\u001b[0mopen\u001b[0m\u001b[0;34m(\u001b[0m\u001b[0mname\u001b[0m\u001b[0;34m,\u001b[0m \u001b[0mh5f\u001b[0m\u001b[0;34m.\u001b[0m\u001b[0mACC_RDONLY\u001b[0m\u001b[0;34m,\u001b[0m \u001b[0mfapl\u001b[0m\u001b[0;34m=\u001b[0m\u001b[0mfapl\u001b[0m\u001b[0;34m)\u001b[0m\u001b[0;34m\u001b[0m\u001b[0;34m\u001b[0m\u001b[0m\n\u001b[0m\u001b[1;32m    194\u001b[0m             \u001b[0;32mexcept\u001b[0m \u001b[0mIOError\u001b[0m\u001b[0;34m:\u001b[0m\u001b[0;34m\u001b[0m\u001b[0;34m\u001b[0m\u001b[0m\n",
      "\u001b[0;32mh5py/_objects.pyx\u001b[0m in \u001b[0;36mh5py._objects.with_phil.wrapper\u001b[0;34m()\u001b[0m\n",
      "\u001b[0;32mh5py/_objects.pyx\u001b[0m in \u001b[0;36mh5py._objects.with_phil.wrapper\u001b[0;34m()\u001b[0m\n",
      "\u001b[0;32mh5py/h5f.pyx\u001b[0m in \u001b[0;36mh5py.h5f.open\u001b[0;34m()\u001b[0m\n",
      "\u001b[0;31mOSError\u001b[0m: Unable to open file (unable to lock file, errno = 11, error message = 'Resource temporarily unavailable')",
      "\nDuring handling of the above exception, another exception occurred:\n",
      "\u001b[0;31mOSError\u001b[0m                                   Traceback (most recent call last)",
      "\u001b[0;32m<ipython-input-2-eda4f8957210>\u001b[0m in \u001b[0;36m<module>\u001b[0;34m\u001b[0m\n\u001b[1;32m      1\u001b[0m \u001b[0;32mimport\u001b[0m \u001b[0mmatplotlib\u001b[0m\u001b[0;34m.\u001b[0m\u001b[0mpylab\u001b[0m \u001b[0;32mas\u001b[0m \u001b[0mplt\u001b[0m\u001b[0;34m\u001b[0m\u001b[0;34m\u001b[0m\u001b[0m\n\u001b[1;32m      2\u001b[0m \u001b[0;32mimport\u001b[0m \u001b[0mnumpy\u001b[0m \u001b[0;32mas\u001b[0m \u001b[0mnp\u001b[0m\u001b[0;34m\u001b[0m\u001b[0;34m\u001b[0m\u001b[0m\n\u001b[0;32m----> 3\u001b[0;31m \u001b[0;32mfrom\u001b[0m \u001b[0mmgemu\u001b[0m \u001b[0;32mimport\u001b[0m \u001b[0memu\u001b[0m\u001b[0;34m\u001b[0m\u001b[0;34m\u001b[0m\u001b[0m\n\u001b[0m\u001b[1;32m      4\u001b[0m \u001b[0;32mimport\u001b[0m \u001b[0mpyccl\u001b[0m\u001b[0;34m\u001b[0m\u001b[0;34m\u001b[0m\u001b[0m\n",
      "\u001b[0;32m~/.local/lib/python3.6/site-packages/mgemu-1.0-py3.6.egg/mgemu/__init__.py\u001b[0m in \u001b[0;36m<module>\u001b[0;34m\u001b[0m\n\u001b[1;32m      3\u001b[0m \u001b[0;32mfrom\u001b[0m \u001b[0;34m.\u001b[0m\u001b[0mload\u001b[0m \u001b[0;32mimport\u001b[0m \u001b[0;34m*\u001b[0m\u001b[0;34m\u001b[0m\u001b[0;34m\u001b[0m\u001b[0m\n\u001b[1;32m      4\u001b[0m \u001b[0;32mfrom\u001b[0m \u001b[0;34m.\u001b[0m\u001b[0mgp\u001b[0m \u001b[0;32mimport\u001b[0m \u001b[0;34m*\u001b[0m\u001b[0;34m\u001b[0m\u001b[0;34m\u001b[0m\u001b[0m\n\u001b[0;32m----> 5\u001b[0;31m \u001b[0;32mfrom\u001b[0m \u001b[0;34m.\u001b[0m\u001b[0memu\u001b[0m \u001b[0;32mimport\u001b[0m \u001b[0;34m*\u001b[0m\u001b[0;34m\u001b[0m\u001b[0;34m\u001b[0m\u001b[0m\n\u001b[0m\u001b[1;32m      6\u001b[0m \u001b[0;32mfrom\u001b[0m \u001b[0;34m.\u001b[0m\u001b[0mscale\u001b[0m \u001b[0;32mimport\u001b[0m \u001b[0;34m*\u001b[0m\u001b[0;34m\u001b[0m\u001b[0;34m\u001b[0m\u001b[0m\n",
      "\u001b[0;32m~/.local/lib/python3.6/site-packages/mgemu-1.0-py3.6.egg/mgemu/emu.py\u001b[0m in \u001b[0;36m<module>\u001b[0;34m\u001b[0m\n\u001b[1;32m     27\u001b[0m \u001b[0mTOT_BINS\u001b[0m \u001b[0;34m=\u001b[0m \u001b[0;36m300\u001b[0m\u001b[0;34m\u001b[0m\u001b[0;34m\u001b[0m\u001b[0m\n\u001b[1;32m     28\u001b[0m \u001b[0;34m\u001b[0m\u001b[0m\n\u001b[0;32m---> 29\u001b[0;31m \u001b[0mALL_GP\u001b[0m\u001b[0;34m,\u001b[0m \u001b[0mALL_PCA\u001b[0m \u001b[0;34m=\u001b[0m \u001b[0mmodel_load_all\u001b[0m\u001b[0;34m(\u001b[0m\u001b[0mnRankMax\u001b[0m\u001b[0;34m=\u001b[0m\u001b[0mDEFAULT_PCA_RANK\u001b[0m\u001b[0;34m)\u001b[0m\u001b[0;34m\u001b[0m\u001b[0;34m\u001b[0m\u001b[0m\n\u001b[0m\u001b[1;32m     30\u001b[0m \u001b[0;34m\u001b[0m\u001b[0m\n\u001b[1;32m     31\u001b[0m \u001b[0;32mdef\u001b[0m \u001b[0memu\u001b[0m\u001b[0;34m(\u001b[0m\u001b[0mOmh2\u001b[0m\u001b[0;34m,\u001b[0m \u001b[0mns\u001b[0m\u001b[0;34m,\u001b[0m \u001b[0ms8\u001b[0m\u001b[0;34m,\u001b[0m \u001b[0mfR0\u001b[0m\u001b[0;34m,\u001b[0m \u001b[0mn\u001b[0m\u001b[0;34m,\u001b[0m \u001b[0mz\u001b[0m\u001b[0;34m)\u001b[0m\u001b[0;34m:\u001b[0m\u001b[0;34m\u001b[0m\u001b[0;34m\u001b[0m\u001b[0m\n",
      "\u001b[0;32m~/.local/lib/python3.6/site-packages/mgemu-1.0-py3.6.egg/mgemu/load.py\u001b[0m in \u001b[0;36mmodel_load_all\u001b[0;34m(nRankMax)\u001b[0m\n\u001b[1;32m     78\u001b[0m \u001b[0;34m\u001b[0m\u001b[0m\n\u001b[1;32m     79\u001b[0m     \u001b[0;32mfor\u001b[0m \u001b[0msnap_ID\u001b[0m \u001b[0;32min\u001b[0m \u001b[0mrange\u001b[0m\u001b[0;34m(\u001b[0m\u001b[0;36m100\u001b[0m\u001b[0;34m)\u001b[0m\u001b[0;34m:\u001b[0m\u001b[0;34m\u001b[0m\u001b[0;34m\u001b[0m\u001b[0m\n\u001b[0;32m---> 80\u001b[0;31m         \u001b[0mGPm\u001b[0m\u001b[0;34m,\u001b[0m \u001b[0mPCAm\u001b[0m \u001b[0;34m=\u001b[0m \u001b[0mmodel_load\u001b[0m\u001b[0;34m(\u001b[0m\u001b[0msnap_ID\u001b[0m\u001b[0;34m,\u001b[0m \u001b[0mnRankMax\u001b[0m\u001b[0;34m)\u001b[0m\u001b[0;34m\u001b[0m\u001b[0;34m\u001b[0m\u001b[0m\n\u001b[0m\u001b[1;32m     81\u001b[0m \u001b[0;34m\u001b[0m\u001b[0m\n\u001b[1;32m     82\u001b[0m         \u001b[0mGPmodel_list\u001b[0m\u001b[0;34m.\u001b[0m\u001b[0mappend\u001b[0m\u001b[0;34m(\u001b[0m\u001b[0mGPm\u001b[0m\u001b[0;34m)\u001b[0m\u001b[0;34m\u001b[0m\u001b[0;34m\u001b[0m\u001b[0m\n",
      "\u001b[0;32m~/.local/lib/python3.6/site-packages/mgemu-1.0-py3.6.egg/mgemu/load.py\u001b[0m in \u001b[0;36mmodel_load\u001b[0;34m(snap_ID, nRankMax)\u001b[0m\n\u001b[1;32m     45\u001b[0m     \u001b[0mctx_for_loading\u001b[0m \u001b[0;34m=\u001b[0m \u001b[0mgpflow\u001b[0m\u001b[0;34m.\u001b[0m\u001b[0msaver\u001b[0m\u001b[0;34m.\u001b[0m\u001b[0mSaverContext\u001b[0m\u001b[0;34m(\u001b[0m\u001b[0mautocompile\u001b[0m\u001b[0;34m=\u001b[0m\u001b[0;32mFalse\u001b[0m\u001b[0;34m)\u001b[0m\u001b[0;34m\u001b[0m\u001b[0;34m\u001b[0m\u001b[0m\n\u001b[1;32m     46\u001b[0m     \u001b[0msaver\u001b[0m \u001b[0;34m=\u001b[0m \u001b[0mgpflow\u001b[0m\u001b[0;34m.\u001b[0m\u001b[0msaver\u001b[0m\u001b[0;34m.\u001b[0m\u001b[0mSaver\u001b[0m\u001b[0;34m(\u001b[0m\u001b[0;34m)\u001b[0m\u001b[0;34m\u001b[0m\u001b[0;34m\u001b[0m\u001b[0m\n\u001b[0;32m---> 47\u001b[0;31m     \u001b[0mGPm\u001b[0m \u001b[0;34m=\u001b[0m \u001b[0msaver\u001b[0m\u001b[0;34m.\u001b[0m\u001b[0mload\u001b[0m\u001b[0;34m(\u001b[0m\u001b[0mGPmodel\u001b[0m\u001b[0;34m,\u001b[0m \u001b[0mcontext\u001b[0m\u001b[0;34m=\u001b[0m\u001b[0mctx_for_loading\u001b[0m\u001b[0;34m)\u001b[0m\u001b[0;34m\u001b[0m\u001b[0;34m\u001b[0m\u001b[0m\n\u001b[0m\u001b[1;32m     48\u001b[0m     \u001b[0mGPm\u001b[0m\u001b[0;34m.\u001b[0m\u001b[0mclear\u001b[0m\u001b[0;34m(\u001b[0m\u001b[0;34m)\u001b[0m\u001b[0;34m\u001b[0m\u001b[0;34m\u001b[0m\u001b[0m\n\u001b[1;32m     49\u001b[0m     \u001b[0mGPm\u001b[0m\u001b[0;34m.\u001b[0m\u001b[0mcompile\u001b[0m\u001b[0;34m(\u001b[0m\u001b[0;34m)\u001b[0m\u001b[0;34m\u001b[0m\u001b[0;34m\u001b[0m\u001b[0m\n",
      "\u001b[0;32m~/.local/lib/python3.6/site-packages/gpflow-1.5.1-py3.6.egg/gpflow/saver/saver.py\u001b[0m in \u001b[0;36mload\u001b[0;34m(self, pathname_or_file_like, context)\u001b[0m\n\u001b[1;32m     33\u001b[0m     \u001b[0;32mdef\u001b[0m \u001b[0mload\u001b[0m\u001b[0;34m(\u001b[0m\u001b[0mself\u001b[0m\u001b[0;34m,\u001b[0m \u001b[0mpathname_or_file_like\u001b[0m\u001b[0;34m,\u001b[0m \u001b[0mcontext\u001b[0m\u001b[0;34m=\u001b[0m\u001b[0;32mNone\u001b[0m\u001b[0;34m)\u001b[0m\u001b[0;34m:\u001b[0m\u001b[0;34m\u001b[0m\u001b[0;34m\u001b[0m\u001b[0m\n\u001b[1;32m     34\u001b[0m         \u001b[0mcontext\u001b[0m \u001b[0;34m=\u001b[0m \u001b[0mSaver\u001b[0m\u001b[0;34m.\u001b[0m\u001b[0m__get_context\u001b[0m\u001b[0;34m(\u001b[0m\u001b[0mcontext\u001b[0m\u001b[0;34m)\u001b[0m\u001b[0;34m\u001b[0m\u001b[0;34m\u001b[0m\u001b[0m\n\u001b[0;32m---> 35\u001b[0;31m         \u001b[0mencoded_target\u001b[0m \u001b[0;34m=\u001b[0m \u001b[0mcontext\u001b[0m\u001b[0;34m.\u001b[0m\u001b[0mserializer\u001b[0m\u001b[0;34m(\u001b[0m\u001b[0mcontext\u001b[0m\u001b[0;34m)\u001b[0m\u001b[0;34m.\u001b[0m\u001b[0mload\u001b[0m\u001b[0;34m(\u001b[0m\u001b[0mpathname_or_file_like\u001b[0m\u001b[0;34m)\u001b[0m\u001b[0;34m\u001b[0m\u001b[0;34m\u001b[0m\u001b[0m\n\u001b[0m\u001b[1;32m     36\u001b[0m         \u001b[0;32mreturn\u001b[0m \u001b[0mCoderDispatcher\u001b[0m\u001b[0;34m(\u001b[0m\u001b[0mcontext\u001b[0m\u001b[0;34m)\u001b[0m\u001b[0;34m.\u001b[0m\u001b[0mdecode\u001b[0m\u001b[0;34m(\u001b[0m\u001b[0mencoded_target\u001b[0m\u001b[0;34m)\u001b[0m\u001b[0;34m\u001b[0m\u001b[0;34m\u001b[0m\u001b[0m\n\u001b[1;32m     37\u001b[0m \u001b[0;34m\u001b[0m\u001b[0m\n",
      "\u001b[0;32m~/.local/lib/python3.6/site-packages/gpflow-1.5.1-py3.6.egg/gpflow/saver/serializers.py\u001b[0m in \u001b[0;36mload\u001b[0;34m(self, pathname_or_file_like)\u001b[0m\n\u001b[1;32m     44\u001b[0m \u001b[0;34m\u001b[0m\u001b[0m\n\u001b[1;32m     45\u001b[0m     \u001b[0;32mdef\u001b[0m \u001b[0mload\u001b[0m\u001b[0;34m(\u001b[0m\u001b[0mself\u001b[0m\u001b[0;34m,\u001b[0m \u001b[0mpathname_or_file_like\u001b[0m\u001b[0;34m)\u001b[0m\u001b[0;34m:\u001b[0m\u001b[0;34m\u001b[0m\u001b[0;34m\u001b[0m\u001b[0m\n\u001b[0;32m---> 46\u001b[0;31m         \u001b[0;32mwith\u001b[0m \u001b[0mh5py\u001b[0m\u001b[0;34m.\u001b[0m\u001b[0mFile\u001b[0m\u001b[0;34m(\u001b[0m\u001b[0mpathname_or_file_like\u001b[0m\u001b[0;34m)\u001b[0m \u001b[0;32mas\u001b[0m \u001b[0mh5file\u001b[0m\u001b[0;34m:\u001b[0m\u001b[0;34m\u001b[0m\u001b[0;34m\u001b[0m\u001b[0m\n\u001b[0m\u001b[1;32m     47\u001b[0m             \u001b[0;32mreturn\u001b[0m \u001b[0mh5file\u001b[0m\u001b[0;34m[\u001b[0m\u001b[0;34m'data'\u001b[0m\u001b[0;34m]\u001b[0m\u001b[0;34m.\u001b[0m\u001b[0mvalue\u001b[0m\u001b[0;34m\u001b[0m\u001b[0;34m\u001b[0m\u001b[0m\n",
      "\u001b[0;32m~/.local/lib/python3.6/site-packages/h5py/_hl/files.py\u001b[0m in \u001b[0;36m__init__\u001b[0;34m(self, name, mode, driver, libver, userblock_size, swmr, rdcc_nslots, rdcc_nbytes, rdcc_w0, track_order, **kwds)\u001b[0m\n\u001b[1;32m    392\u001b[0m                 fid = make_fid(name, mode, userblock_size,\n\u001b[1;32m    393\u001b[0m                                \u001b[0mfapl\u001b[0m\u001b[0;34m,\u001b[0m \u001b[0mfcpl\u001b[0m\u001b[0;34m=\u001b[0m\u001b[0mmake_fcpl\u001b[0m\u001b[0;34m(\u001b[0m\u001b[0mtrack_order\u001b[0m\u001b[0;34m=\u001b[0m\u001b[0mtrack_order\u001b[0m\u001b[0;34m)\u001b[0m\u001b[0;34m,\u001b[0m\u001b[0;34m\u001b[0m\u001b[0;34m\u001b[0m\u001b[0m\n\u001b[0;32m--> 394\u001b[0;31m                                swmr=swmr)\n\u001b[0m\u001b[1;32m    395\u001b[0m \u001b[0;34m\u001b[0m\u001b[0m\n\u001b[1;32m    396\u001b[0m             \u001b[0;32mif\u001b[0m \u001b[0mswmr_support\u001b[0m\u001b[0;34m:\u001b[0m\u001b[0;34m\u001b[0m\u001b[0;34m\u001b[0m\u001b[0m\n",
      "\u001b[0;32m~/.local/lib/python3.6/site-packages/h5py/_hl/files.py\u001b[0m in \u001b[0;36mmake_fid\u001b[0;34m(name, mode, userblock_size, fapl, fcpl, swmr)\u001b[0m\n\u001b[1;32m    193\u001b[0m                 \u001b[0mfid\u001b[0m \u001b[0;34m=\u001b[0m \u001b[0mh5f\u001b[0m\u001b[0;34m.\u001b[0m\u001b[0mopen\u001b[0m\u001b[0;34m(\u001b[0m\u001b[0mname\u001b[0m\u001b[0;34m,\u001b[0m \u001b[0mh5f\u001b[0m\u001b[0;34m.\u001b[0m\u001b[0mACC_RDONLY\u001b[0m\u001b[0;34m,\u001b[0m \u001b[0mfapl\u001b[0m\u001b[0;34m=\u001b[0m\u001b[0mfapl\u001b[0m\u001b[0;34m)\u001b[0m\u001b[0;34m\u001b[0m\u001b[0;34m\u001b[0m\u001b[0m\n\u001b[1;32m    194\u001b[0m             \u001b[0;32mexcept\u001b[0m \u001b[0mIOError\u001b[0m\u001b[0;34m:\u001b[0m\u001b[0;34m\u001b[0m\u001b[0;34m\u001b[0m\u001b[0m\n\u001b[0;32m--> 195\u001b[0;31m                 \u001b[0mfid\u001b[0m \u001b[0;34m=\u001b[0m \u001b[0mh5f\u001b[0m\u001b[0;34m.\u001b[0m\u001b[0mcreate\u001b[0m\u001b[0;34m(\u001b[0m\u001b[0mname\u001b[0m\u001b[0;34m,\u001b[0m \u001b[0mh5f\u001b[0m\u001b[0;34m.\u001b[0m\u001b[0mACC_EXCL\u001b[0m\u001b[0;34m,\u001b[0m \u001b[0mfapl\u001b[0m\u001b[0;34m=\u001b[0m\u001b[0mfapl\u001b[0m\u001b[0;34m,\u001b[0m \u001b[0mfcpl\u001b[0m\u001b[0;34m=\u001b[0m\u001b[0mfcpl\u001b[0m\u001b[0;34m)\u001b[0m\u001b[0;34m\u001b[0m\u001b[0;34m\u001b[0m\u001b[0m\n\u001b[0m\u001b[1;32m    196\u001b[0m     \u001b[0;32melse\u001b[0m\u001b[0;34m:\u001b[0m\u001b[0;34m\u001b[0m\u001b[0;34m\u001b[0m\u001b[0m\n\u001b[1;32m    197\u001b[0m         \u001b[0;32mraise\u001b[0m \u001b[0mValueError\u001b[0m\u001b[0;34m(\u001b[0m\u001b[0;34m\"Invalid mode; must be one of r, r+, w, w-, x, a\"\u001b[0m\u001b[0;34m)\u001b[0m\u001b[0;34m\u001b[0m\u001b[0;34m\u001b[0m\u001b[0m\n",
      "\u001b[0;32mh5py/_objects.pyx\u001b[0m in \u001b[0;36mh5py._objects.with_phil.wrapper\u001b[0;34m()\u001b[0m\n",
      "\u001b[0;32mh5py/_objects.pyx\u001b[0m in \u001b[0;36mh5py._objects.with_phil.wrapper\u001b[0;34m()\u001b[0m\n",
      "\u001b[0;32mh5py/h5f.pyx\u001b[0m in \u001b[0;36mh5py.h5f.create\u001b[0;34m()\u001b[0m\n",
      "\u001b[0;31mOSError\u001b[0m: Unable to create file (unable to open file: name = '/n/home02/gvalogiannis/.local/lib/python3.6/site-packages/mgemu-1.0-py3.6.egg/mgemu/models/GP_smooth_rank6snap0', errno = 17, error message = 'File exists', flags = 15, o_flags = c2)"
     ]
    }
   ],
   "source": [
    "import matplotlib.pylab as plt\n",
    "import numpy as np\n",
    "from mgemu import emu\n",
    "import pyccl"
   ]
  },
  {
   "cell_type": "code",
   "execution_count": null,
   "metadata": {},
   "outputs": [],
   "source": [
    "def pmg(Om, h, ns, s8, fR0, n, z):\n",
    "    Omh2 = (h**2)*Om\n",
    "    pkratio, k = emu(Omh2, ns, s8, fR0, n, z)\n",
    "    gc.collect()\n",
    "    # cosmo = pyccl.Cosmology(Omega_c= Om, Omega_b=0.0, h=h, n_s=ns, sigma8=s8, transfer_function='bbks')\n",
    "    cosmo = pyccl.Cosmology(Omega_c=Om-0.02203/(h**2), Omega_b=0.02203/(h**2), h=h, sigma8=s8, n_s=ns, Neff=3.04, transfer_function='boltzmann_class', matter_power_spectrum='emu')\n",
    "    a = 1./(1+z)\n",
    "    #Now we have to be careful, because mgemu k-units are in h/Mpc, while CCL units are in 1/Mpc. convert\n",
    "    kccl = k*h\n",
    "    pk_nl = pyccl.nonlin_matter_power(cosmo, kccl, a)\n",
    "    #CCL output pk is in Mpc^3, convert to (Mpc/h)^3\n",
    "    pk_nl *= h*h*h\n",
    "    #pk_mg = pk_lcdm*pkratio\n",
    "    pk_mg = pk_nl*pkratio\n",
    "    return pk_mg, k"
   ]
  },
  {
   "cell_type": "code",
   "execution_count": null,
   "metadata": {},
   "outputs": [],
   "source": [
    "#Defining function to calculate galaxy power spectrum, using the matter Pk from function pmg\n",
    "#Additional arguments needed are linear bias b1& snot noise term shot\n",
    "def p_ggmg(Om, h, ns, s8, fR0, n, z, b1, shot):\n",
    "    Omh2 = (h**2)*Om\n",
    "    pkratio, k = emu(Omh2, ns, s8, fR0, n, z)\n",
    "    gc.collect()\n",
    "    cosmo = pyccl.Cosmology(Omega_c=Om-0.02203/(h**2), Omega_b=0.02203/(h**2), h=h, sigma8=s8, n_s=ns, Neff=3.04, transfer_function='boltzmann_class', matter_power_spectrum='emu')\n",
    "    a = 1./(1+z)\n",
    "    #Now we have to be careful, because mgemu k-units are in h/Mpc, while CCL units are in 1/Mpc. convert k-emu range\n",
    "    kccl = k*h\n",
    "    pk_nl = pyccl.nonlin_matter_power(cosmo, kccl, a)\n",
    "    #CCL output pk is in Mpc^3, convert to (Mpc/h)^3\n",
    "    pk_nl *= h*h*h\n",
    "    #pk_mg = pk_lcdm*pkratio\n",
    "    pk_mg = pk_nl*pkratio\n",
    "    pgg_mg = b1*b1*pk_mg + shot\n",
    "    return pgg_mg, k"
   ]
  },
  {
   "cell_type": "code",
   "execution_count": null,
   "metadata": {},
   "outputs": [],
   "source": [
    "### LCDM parameters\n",
    "h=0.6774 # See README and the accompanying paper regarding the value of h. \n",
    "Om = 0.3089\n",
    "Omh2=(h**2)*Om\n",
    "Obh2 = 0.02203\n",
    "Och2 = Omh2-Obh2\n",
    "ns=0.9667\n",
    "s8=0.8159\n",
    "### Hu-Sawicki model parameters\n",
    "fr0=1e-5\n",
    "n=1\n",
    "### Redshift\n",
    "z=0"
   ]
  },
  {
   "cell_type": "code",
   "execution_count": null,
   "metadata": {},
   "outputs": [],
   "source": [
    "np.random.randint(1e5, size=1)"
   ]
  },
  {
   "cell_type": "code",
   "execution_count": null,
   "metadata": {},
   "outputs": [],
   "source": [
    "pkratio , k = emu(Omh2=Omh2, ns=ns, s8=s8, fR0=fr0, n=n, z=0.031)"
   ]
  },
  {
   "cell_type": "code",
   "execution_count": 8,
   "metadata": {},
   "outputs": [],
   "source": [
    "# pkratio"
   ]
  },
  {
   "cell_type": "code",
   "execution_count": 9,
   "metadata": {},
   "outputs": [],
   "source": [
    "# cosmo = pyccl.Cosmology(Omega_c= Om, Omega_b=0.0, h=h, n_s=ns, sigma8=s8, transfer_function='bbks')\n",
    "cosmo = pyccl.Cosmology(Omega_c=0.26-0.0453, Omega_b=0.0453, h=0.72, sigma8=0.80, n_s=0.96, Neff=3.04, transfer_function='boltzmann_class', matter_power_spectrum='emu')\n",
    "#pyccl.comoving_radial_distance(cosmo, 1./(1+z))\n",
    "a = 1./(1+z)\n",
    "pk_lcdm = pyccl.nonlin_matter_power(cosmo, k*h, a)\n",
    "pk_lcdm *= h*h*h"
   ]
  },
  {
   "cell_type": "code",
   "execution_count": 10,
   "metadata": {},
   "outputs": [],
   "source": [
    "#Now that we can evalute the galaxy Pk for a given MG cosmology, let's build functions to actually predict the galaxy bias and shot noise for a realistic LSST sample "
   ]
  },
  {
   "cell_type": "code",
   "execution_count": 11,
   "metadata": {},
   "outputs": [],
   "source": [
    "import math\n",
    "from scipy.interpolate import interp1d\n",
    "from scipy.integrate import quad, dblquad\n",
    "from scipy.special import gamma\n",
    "from scipy.integrate import odeint"
   ]
  },
  {
   "cell_type": "code",
   "execution_count": 12,
   "metadata": {},
   "outputs": [],
   "source": [
    "#Define a-dependent functions for growth factor equation\n",
    "def Omegatime(a, Om0):\n",
    " return Om0/(Om0+(1-Om0)*a*a*a)\n",
    "#adot\n",
    "def adot(a, Om0):\n",
    " return np.sqrt(Om0/a+(1-Om0)*a*a)\n",
    "def H(a, Om0):\n",
    " return adot(a, Om0)/a\n",
    "def adotprime(a, Om0):\n",
    " return (-Om0/a/a + 2*(1-Om0)*a)/np.sqrt(Om0/a+(1-Om0)*a*a)/2\n",
    "#Define additional functions needed for\n",
    "def mfr(a, Om0, fr0, nfr): #scalar field mass\n",
    " return (1/2997.72)*math.sqrt(1./(nfr+1)/fr0)*math.sqrt(math.pow(Om0+4*(1-Om0),-nfr-1))*math.sqrt(math.pow(Om0/a/a/a+4*(1-Om0),2+nfr))\n",
    "#Define 1/adot^3 integrand\n",
    "def invadot3(a, Om0):\n",
    " return 1/adot(a, Om0)/adot(a, Om0)/adot(a, Om0)\n",
    "#Define 1/adot^3 integral\n",
    "def intToday(Om0, amin):\n",
    " return quad(invadot3,0,amin,args=(Om0))[0]\n",
    "def Damin(Om0, amin):\n",
    " return 2.5*Om0*H(amin, Om0)*intToday(Om0, amin)\n",
    "def DH1(a, Om0):\n",
    " return -3*Om0/(2*a*a*a*math.sqrt((a*a*a+Om0-Om0*a*a*a)/a))\n",
    "def der0(Om0, amin):\n",
    " return 2.5*Om0*(DH1(amin, Om0)*intToday(Om0, amin)+H(amin, Om0)*invadot3(amin, Om0))"
   ]
  },
  {
   "cell_type": "code",
   "execution_count": 13,
   "metadata": {},
   "outputs": [],
   "source": [
    "#Setup integration to get comoving volume for various z bin\n",
    "#Comoving distance integrator\n",
    "def integrand(a, Omm):\n",
    " return 1/math.sqrt(a*Omm+a*a*a*a*(1-Omm))\n",
    "#get comoving volume\n",
    "def Vcom(z, Omm):\n",
    " return (4*math.pi*20000)/(3*41252.96)*math.pow(2997.92458*quad(integrand, 1./(1+z), 1, args=(Omm))[0],3)#*math.pow(10,-9)\n",
    "#get comoving differential volume in redshift bin with width +-0.05\n",
    "def Vbin(z, Omm, bin):\n",
    " return Vcom(z+bin, Omm)-Vcom(z-bin, Omm)\n",
    "Veff=np.vectorize(Vbin)\n",
    "\n",
    "#Define function fro differential dN/dz to be integrated\n",
    "def dNdz(z, alpha, z0, ntot):\n",
    " return (ntot*alpha/(z0*gamma(3.0/alpha)))*(z/z0)*(z/z0)*math.exp(-math.pow(z/z0,alpha))\n",
    "def Nz(z, alpha, z0, ntot, bin):\n",
    " return quad(dNdz, z-bin, z+bin, args=(alpha, z0, ntot))[0]"
   ]
  },
  {
   "cell_type": "code",
   "execution_count": 14,
   "metadata": {},
   "outputs": [],
   "source": [
    "#Setup basic parameters for year10&Y1 LSST photo-z samples\n",
    "NY10=48*20000*3600\n",
    "ay10= 0.90\n",
    "z0y10 = 0.28\n",
    "biny10 = 0.05\n",
    "b1y10 = 0.95\n",
    "#for year1 sample\n",
    "NY1=18*20000*3600\n",
    "ay1= 0.94\n",
    "z0y1 = 0.26\n",
    "biny1 = 0.1\n",
    "b1y1 = 1.05"
   ]
  },
  {
   "cell_type": "code",
   "execution_count": 15,
   "metadata": {},
   "outputs": [],
   "source": [
    "abserr = 1.0e-13\n",
    "relerr = 1.0e-13\n",
    "#Define growth factor differential equation system\n",
    "def growth(y, a, Om0):\n",
    " D, w = y\n",
    " dyda = [w, -(adotprime(a, Om0) + 2*H(a, Om0))*w/adot(a, Om0) + 1.5*Omegatime(a, Om0)*H(a, Om0)*H(a, Om0)*D/adot(a, Om0)/adot(a, Om0)]\n",
    " return dyda\n",
    " \n",
    "#y0 = [0.0019999999,0.999999999]\n",
    "arange = np.logspace(math.log(0.002,10),math.log(1,10),1000)\n",
    "#setting up boundary conditions\n",
    "y0 = [Damin(Om, arange[0]),der0(Om, arange[0])]\n",
    "sol = odeint(growth, y0, arange, args=(Om,), atol=abserr, rtol=relerr)\n",
    "#Spline GR growth factor  solution and growth rate.\n",
    "Dgr = interp1d(arange, sol[:,0], kind='cubic')\n",
    "#and also growth rate\n",
    "fgr = interp1d(arange, arange*sol[:,1]/sol[:,0], kind='cubic')"
   ]
  },
  {
   "cell_type": "code",
   "execution_count": 16,
   "metadata": {},
   "outputs": [],
   "source": [
    "timesteps = np.loadtxt('timestepsCOLA.txt')\n",
    "irangey10 = np.array([43,45,48,53,57,61,65,70,75,82])\n",
    "irangey1 = np.array([43,48,57,65,75])\n",
    "Nt = irangey10[irangey10.shape[0]-1]\n",
    "\n",
    "Nseed=2000 #25"
   ]
  },
  {
   "cell_type": "code",
   "execution_count": 17,
   "metadata": {
    "scrolled": true
   },
   "outputs": [
    {
     "name": "stdout",
     "output_type": "stream",
     "text": [
      "a,z,b_1= 0.4512 1.216313 1.7096583337348537\n",
      "a,z,b_1= 0.4708 1.124045 1.645654696216662\n",
      "a,z,b_1= 0.5002 0.999201 1.5599659653732123\n",
      "a,z,b_1= 0.5492 0.820831 1.439767025161971\n",
      "a,z,b_1= 0.5884 0.699524 1.359885641811489\n",
      "a,z,b_1= 0.6276 0.593372 1.2915087247085706\n",
      "a,z,b_1= 0.6668 0.4997 1.232567867300583\n",
      "a,z,b_1= 0.7158 0.397038 1.169726499808988\n",
      "a,z,b_1= 0.7648 0.307531 1.1166678302825346\n",
      "a,z,b_1= 0.8334 0.199904 1.0553364364635174\n"
     ]
    }
   ],
   "source": [
    "#Now iterate of different snapshots\n",
    "for i in (irangey10):\n",
    " astep = timesteps[i,0]\n",
    " zstep = timesteps[i,1]\n",
    " #linear bias for galaxy sample, in our case Y10\n",
    " b1=b1y10*Dgr(1)/Dgr(astep) #Bias for Y10\n",
    " #b1=b1y1*Dgr(1)/Dgr(astep) #Bias for Y10\n",
    " print ('a,z,b_1=',astep, zstep, b1)"
   ]
  },
  {
   "cell_type": "code",
   "execution_count": 18,
   "metadata": {},
   "outputs": [],
   "source": [
    "#print (Nseed, k.shape[0],((Nseed-k.shape[0]-2)/(Nseed-1)))\n",
    "#Import covariance matrices\n",
    "for i in (irangey10):\n",
    "    astep = timesteps[i,0]\n",
    "    zstep = timesteps[i,1]\n",
    "    locals()['covPMGmat_'+str(i)] = np.loadtxt('./Covariance_data/covariance_step_'+str(i)+'.txt')\n",
    "    locals()['InvcovPMGmat_'+str(i)] = ((Nseed-k.shape[0]-2)/(Nseed-1))*np.linalg.inv(locals()['covPMGmat_'+str(i)])\n",
    "    "
   ]
  },
  {
   "cell_type": "code",
   "execution_count": 19,
   "metadata": {},
   "outputs": [
    {
     "name": "stdout",
     "output_type": "stream",
     "text": [
      "1.216313\n",
      "1.124045\n",
      "0.999201\n",
      "0.820831\n",
      "0.699524\n",
      "0.593372\n",
      "0.4997\n",
      "0.397038\n",
      "0.307531\n",
      "0.199904\n"
     ]
    }
   ],
   "source": [
    "for i in (irangey10):\n",
    "    astep = timesteps[i,0]\n",
    "    zstep = timesteps[i,1]\n",
    "    print (zstep)"
   ]
  },
  {
   "cell_type": "code",
   "execution_count": 20,
   "metadata": {},
   "outputs": [],
   "source": [
    "npar = 6 #no of paramaters to constrain\n",
    "FY10tot = np.zeros([npar,npar])\n",
    "FY1tot = np.zeros([npar,npar])\n",
    "imax =  47 #135 #maximum k scale array index\n",
    "#imax = 21"
   ]
  },
  {
   "cell_type": "code",
   "execution_count": null,
   "metadata": {},
   "outputs": [],
   "source": []
  },
  {
   "cell_type": "code",
   "execution_count": 21,
   "metadata": {},
   "outputs": [],
   "source": [
    "nn=1"
   ]
  },
  {
   "cell_type": "code",
   "execution_count": 22,
   "metadata": {},
   "outputs": [],
   "source": [
    "from matplotlib import gridspec\n",
    "from matplotlib import cm"
   ]
  },
  {
   "cell_type": "code",
   "execution_count": 23,
   "metadata": {},
   "outputs": [],
   "source": [
    "\n",
    "import time"
   ]
  },
  {
   "cell_type": "code",
   "execution_count": 24,
   "metadata": {},
   "outputs": [],
   "source": [
    "#New part to test Nesar's Fisher code\n",
    "import numpy as np\n",
    "import matplotlib.pyplot as plt\n",
    "from matplotlib.patches import Ellipse\n",
    "from scipy.misc import derivative\n",
    "\n",
    "\n",
    "\n",
    "\n",
    "def plot_contours(hessian, pos,  nstd=1., ax=None, **kwargs):\n",
    "  \"\"\"\n",
    "  Plot 2D parameter contours given a Hessian matrix of the likelihood\n",
    "  \"\"\"\n",
    "  \n",
    "  def eigsorted(cov):\n",
    "    vals, vecs = np.linalg.eigh(cov)\n",
    "    order = vals.argsort()[::-1]\n",
    "    return vals[order], vecs[:, order]\n",
    "\n",
    "  mat = - hessian\n",
    "\n",
    "  cov = np.linalg.pinv(mat)\n",
    "\n",
    "  sigma_marg = lambda i: np.sqrt(cov[i, i])\n",
    "\n",
    "  if ax is None:\n",
    "      ax = plt.gca()\n",
    "\n",
    "  vals, vecs = eigsorted(cov)\n",
    "  theta = np.degrees(np.arctan2(*vecs[:, 0][::-1]))\n",
    "\n",
    "  # Width and height are \"full\" widths, not radius\n",
    "  width, height = 2 * nstd * np.sqrt(vals)\n",
    "  ellip = Ellipse(xy=pos, width=width,\n",
    "                  height=height, angle=theta, **kwargs)\n",
    "\n",
    "  ax.add_artist(ellip)\n",
    "  sz = max(width, height)\n",
    "  s1 = 1.5*nstd*sigma_marg(0)\n",
    "  s2 = 1.5*nstd*sigma_marg(1)\n",
    "  ax.set_xlim(pos[0] - s1, pos[0] + s1)\n",
    "  ax.set_ylim(pos[1] - s2, pos[1] + s2)\n",
    "  plt.draw()\n",
    "  return ellip\n",
    "\n",
    "\n",
    "def lnlike_k(theta, x, y, kcut):\n",
    "    p1, p2, p3, p4, p5 = theta\n",
    "    kcond = np.where(x < kcut)\n",
    "    new_params = np.array([p1, p2, p3, p4, p5])\n",
    "\n",
    "    cov_mat_red = cov_mat[0: np.array(kcond)[0][-1] + 1, 0: np.array(kcond)[0][-1] + 1]\n",
    "    icov_red = np.linalg.inv(cov_mat_red)\n",
    "\n",
    "    debias_factor = (2000.0 - x.shape[0] - 2)/(2000 - 1)\n",
    "    icov_red = debias_factor * icov_red\n",
    "\n",
    "    #model = Emu(new_params) ## using emulator predition \n",
    "    model, kdum = emu(Omh2=p1, ns=p2, s8=p3, fR0=math.pow(10,p4), n=p5, z=0.0) ## using emulator predition  \n",
    "    gc.collect()\n",
    "\n",
    "\n",
    "    x_red = x[kcond]\n",
    "    y_red = y[kcond]\n",
    "\n",
    "    \n",
    "    model_red = model[kcond]\n",
    "    x_red = x[kcond]\n",
    "    y_red = y[kcond]\n",
    "    \n",
    "    y_model = np.asarray(y_red-model_red)\n",
    "\n",
    "    loglike = -0.5*(y_model.dot(icov_red).dot(y_model))\n",
    "    return loglike\n",
    "\n",
    "\n",
    "dtheta = 5e-3\n",
    "\n",
    "def partial_derivative(func, var=0, point=[]):\n",
    "    args = point[:]\n",
    "    def wraps(x):\n",
    "        args[var] = x\n",
    "        return func(*args)\n",
    "    return derivative(wraps, point[var], dx = dtheta)\n",
    "\n",
    "\n",
    "def hess_k(ind0, ind1, klim):\n",
    "\n",
    "    def loglike(p, q):\n",
    "        params = np.empty_like(fid_params)\n",
    "        params[:] = fid_params\n",
    "        params[ind0] = p\n",
    "        params[ind1] = q\n",
    "\n",
    "        return lnlike_k(params, kz, pkratioz, klim)\n",
    "\n",
    "    def Dx(p, q):\n",
    "        return partial_derivative(func=loglike, var = 0, point=[p, q])\n",
    "\n",
    "    def Dy(p, q):\n",
    "        return partial_derivative(func=loglike, var = 1, point=[p, q])\n",
    "\n",
    "    def Dxy(p, q):\n",
    "        return partial_derivative(func=Dy, var = 0, point=[p, q])\n",
    "\n",
    "    def Dyx(p, q):\n",
    "        return partial_derivative(func=Dx, var = 1, point=[p, q])  \n",
    "\n",
    "    def Dxx(p, q):\n",
    "        return partial_derivative(func=Dx, var = 0, point=[p, q]) \n",
    "\n",
    "    def Dyy(p, q):\n",
    "        return partial_derivative(func=Dy, var = 1, point=[p, q]) \n",
    "\n",
    "\n",
    "    h = np.zeros(shape = (2,2))\n",
    "    h[0, 0] = Dxx(fid_params[ind0], fid_params[ind1])\n",
    "    h[1, 1] = Dyy(fid_params[ind0], fid_params[ind1])\n",
    "    h[1, 0] = Dyx(fid_params[ind0], fid_params[ind1])\n",
    "    h[0, 1] = Dxy(fid_params[ind0], fid_params[ind1])\n",
    "    print(h)\n",
    "    return h\n",
    "\n",
    "def params_ell(ind0, ind1):\n",
    "    params = np.array([fid_params[ind0], fid_params[ind1]])\n",
    "    return params\n",
    "\n",
    "\n"
   ]
  },
  {
   "cell_type": "code",
   "execution_count": 25,
   "metadata": {},
   "outputs": [
    {
     "name": "stdout",
     "output_type": "stream",
     "text": [
      "[ 0.14174518  0.9667      0.8159     -5.          1.        ]\n"
     ]
    }
   ],
   "source": [
    "gsc=gridspec.GridSpec(5,5, wspace=0.0, hspace=0.0)\n",
    "fid_params = np.array([Omh2,ns,s8,math.log(fr0,10),nn])\n",
    "print (fid_params)\n",
    "num_parameters = 5"
   ]
  },
  {
   "cell_type": "code",
   "execution_count": 26,
   "metadata": {},
   "outputs": [],
   "source": [
    "def lnlike_kgal(theta, x, y, kcut, zz, Cov, shot):\n",
    "    p1, p2, p3, p4, p5, p6 = theta\n",
    "    kcond = np.where(x < kcut)\n",
    "    new_params = np.array([p1, p2, p3, p4, p5, p6])\n",
    "\n",
    "    cov_mat_red = Cov[0: np.array(kcond)[0][-1] + 1, 0: np.array(kcond)[0][-1] + 1]\n",
    "    icov_red = np.linalg.inv(cov_mat_red)\n",
    "\n",
    "    debias_factor = (2000.0 - x.shape[0] - 2)/(2000 - 1)\n",
    "    icov_red = debias_factor * icov_red\n",
    "\n",
    "    #model = Emu(new_params) ## using emulator predition \n",
    "    #model, kdum = emu(Omh2=p1, ns=p2, s8=p3, fR0=math.pow(10,p4), n=p5, z=0.0) ## using emulator predition \n",
    "    #print (p1/h/h, h, p2, p3, math.pow(10,p4), p5, zz, p6, 0)\n",
    "    model, kdum  =  p_ggmg(p1/h/h, h, p2, p3, math.pow(10,p4), p5, zz, p6, shot)\n",
    "    gc.collect()\n",
    "    \n",
    "\n",
    "\n",
    "    x_red = x[kcond]\n",
    "    y_red = y[kcond]\n",
    "\n",
    "    \n",
    "    model_red = model[kcond]\n",
    "    x_red = x[kcond]\n",
    "    y_red = y[kcond]\n",
    "    \n",
    "    y_model = np.asarray(y_red-model_red)\n",
    "\n",
    "    loglike = -0.5*(y_model.dot(icov_red).dot(y_model))\n",
    "    return loglike"
   ]
  },
  {
   "cell_type": "code",
   "execution_count": 27,
   "metadata": {},
   "outputs": [],
   "source": [
    "#Define new function for the Loglikehood and Hessian, based on Nesar code, but now for P_gg\n",
    "def hess_kgal(ind0, ind1, klim, fid_arr, kz, pkratioz, zz, Cov, shot):\n",
    "\n",
    "    def loglikegal(p, q):\n",
    "        params = np.empty_like(fid_arr)\n",
    "        params[:] = fid_arr\n",
    "        params[ind0] = p\n",
    "        params[ind1] = q\n",
    "\n",
    "        return lnlike_kgal(params, kz, pkratioz, klim, zz, Cov, shot)\n",
    "\n",
    "    def Dx(p, q):\n",
    "        return partial_derivative(func=loglikegal, var = 0, point=[p, q])\n",
    "\n",
    "    def Dy(p, q):\n",
    "        return partial_derivative(func=loglikegal, var = 1, point=[p, q])\n",
    "\n",
    "    def Dxy(p, q):\n",
    "        return partial_derivative(func=Dy, var = 0, point=[p, q])\n",
    "\n",
    "    def Dyx(p, q):\n",
    "        return partial_derivative(func=Dx, var = 1, point=[p, q])  \n",
    "\n",
    "    def Dxx(p, q):\n",
    "        return partial_derivative(func=Dx, var = 0, point=[p, q]) \n",
    "\n",
    "    def Dyy(p, q):\n",
    "        return partial_derivative(func=Dy, var = 1, point=[p, q]) \n",
    "\n",
    "\n",
    "    h = np.zeros(shape = (2,2))\n",
    "    h[0, 0] = Dxx(fid_arr[ind0], fid_arr[ind1])\n",
    "    h[1, 1] = Dyy(fid_arr[ind0], fid_arr[ind1])\n",
    "    h[1, 0] = Dyx(fid_arr[ind0], fid_arr[ind1])\n",
    "    #h[0, 1] = Dxy(fid_arr[ind0], fid_arr[ind1])\n",
    "    h[0, 1] = h[1, 0]\n",
    "    #print(h)\n",
    "    return h"
   ]
  },
  {
   "cell_type": "code",
   "execution_count": 29,
   "metadata": {},
   "outputs": [
    {
     "name": "stdout",
     "output_type": "stream",
     "text": [
      "43 1.216313\n",
      "45 1.124045\n",
      "48 0.999201\n",
      "53 0.820831\n",
      "57 0.699524\n",
      "61 0.593372\n",
      "65 0.4997\n",
      "70 0.397038\n",
      "75 0.307531\n",
      "82 0.199904\n",
      "294.0000009536743\n"
     ]
    }
   ],
   "source": [
    "#Loop over various snapshots of the Y10 sample\n",
    "h=0.6774 # See README and the accompanying paper regarding the value of h. \n",
    "Om = 0.3089\n",
    "Omh2=(h**2)*Om\n",
    "Obh2 = 0.02203\n",
    "Och2 = Omh2-Obh2\n",
    "ns=0.9667\n",
    "s8=0.8159\n",
    "### Hu-Sawicki model parameters\n",
    "#fr0=1e-5\n",
    "fr0log = -5\n",
    "n=1\n",
    "numpar = 6\n",
    "FY10new = np.zeros([numpar,numpar])\n",
    "kmax = 0.25\n",
    "start = time.time()\n",
    "#for k in (irangey10[8:9]):\n",
    "for k in (irangey10):    \n",
    "    astep = timesteps[k,0]\n",
    "    zstep = timesteps[k,1]\n",
    "    print (k, zstep)\n",
    "    #linear bias for galaxy sample, in our case Y10\n",
    "    b1=b1y10*Dgr(1)/Dgr(astep) #Bias for Y10\n",
    "    Shot = Veff(zstep, Om, biny10)/Nz(zstep, ay10, z0y10, NY10, biny10)\n",
    "    #ndens = 1.0/Shot\n",
    "    param_array = np.array([Omh2,ns,s8,fr0log,n,b1])\n",
    "    #print (param_array)\n",
    "    Pfid, kkk = p_ggmg(Om, h, ns, s8, math.pow(10,fr0log), n, zstep, b1, Shot)\n",
    "    gc.collect()\n",
    "    covPMGmatz = np.loadtxt('./Covariance_data/covariance_step_'+str(k)+'.txt')\n",
    "    for i in range(numpar):\n",
    "     for j in range(numpar):\n",
    "      #print(i, j)\n",
    "      if (i > j):\n",
    "        sub = hess_kgal(j,i, kmax, param_array, kkk, Pfid, zstep, covPMGmatz, Shot)\n",
    "        FY10new[j,j] += sub[0,0]\n",
    "        FY10new[i,i] += sub[1,1]\n",
    "        FY10new[j,i] += sub[0,1]\n",
    "        FY10new[i,j] += sub[1,0] \n",
    "    #np.savetxt('./Covariance_data/FisherHessPgg_step'+str(k)+'.txt', -FY10new)   \n",
    "elapsed_time_fl = (time.time() - start)\n",
    "print (elapsed_time_fl)    "
   ]
  },
  {
   "cell_type": "code",
   "execution_count": null,
   "metadata": {},
   "outputs": [],
   "source": []
  }
 ],
 "metadata": {
  "anaconda-cloud": {},
  "kernelspec": {
   "display_name": "Python [conda env:.conda-tf-test]",
   "language": "python",
   "name": "conda-env-.conda-tf-test-py"
  },
  "language_info": {
   "codemirror_mode": {
    "name": "ipython",
    "version": 3
   },
   "file_extension": ".py",
   "mimetype": "text/x-python",
   "name": "python",
   "nbconvert_exporter": "python",
   "pygments_lexer": "ipython3",
   "version": "3.6.8"
  }
 },
 "nbformat": 4,
 "nbformat_minor": 2
}
