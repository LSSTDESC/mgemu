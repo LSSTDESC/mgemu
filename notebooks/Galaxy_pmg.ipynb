{
 "cells": [
  {
   "cell_type": "code",
   "execution_count": 1,
   "metadata": {},
   "outputs": [],
   "source": [
    "import warnings\n",
    "warnings.filterwarnings('ignore')"
   ]
  },
  {
   "cell_type": "code",
   "execution_count": 2,
   "metadata": {},
   "outputs": [
    {
     "name": "stdout",
     "output_type": "stream",
     "text": [
      "WARNING:tensorflow:From /n/home02/gvalogiannis/.local/lib/python3.6/site-packages/gpflow-1.5.1-py3.6.egg/gpflow/session_manager.py:31: The name tf.Session is deprecated. Please use tf.compat.v1.Session instead.\n",
      "\n"
     ]
    },
    {
     "name": "stderr",
     "output_type": "stream",
     "text": [
      "WARNING:tensorflow:From /n/home02/gvalogiannis/.local/lib/python3.6/site-packages/gpflow-1.5.1-py3.6.egg/gpflow/session_manager.py:31: The name tf.Session is deprecated. Please use tf.compat.v1.Session instead.\n",
      "\n"
     ]
    },
    {
     "name": "stdout",
     "output_type": "stream",
     "text": [
      "WARNING:tensorflow:From /n/home02/gvalogiannis/.local/lib/python3.6/site-packages/gpflow-1.5.1-py3.6.egg/gpflow/misc.py:27: The name tf.GraphKeys is deprecated. Please use tf.compat.v1.GraphKeys instead.\n",
      "\n"
     ]
    },
    {
     "name": "stderr",
     "output_type": "stream",
     "text": [
      "WARNING:tensorflow:From /n/home02/gvalogiannis/.local/lib/python3.6/site-packages/gpflow-1.5.1-py3.6.egg/gpflow/misc.py:27: The name tf.GraphKeys is deprecated. Please use tf.compat.v1.GraphKeys instead.\n",
      "\n"
     ]
    },
    {
     "name": "stdout",
     "output_type": "stream",
     "text": [
      "WARNING:tensorflow:From /n/home02/gvalogiannis/.local/lib/python3.6/site-packages/gpflow-1.5.1-py3.6.egg/gpflow/training/tensorflow_optimizer.py:169: The name tf.train.AdadeltaOptimizer is deprecated. Please use tf.compat.v1.train.AdadeltaOptimizer instead.\n",
      "\n"
     ]
    },
    {
     "name": "stderr",
     "output_type": "stream",
     "text": [
      "WARNING:tensorflow:From /n/home02/gvalogiannis/.local/lib/python3.6/site-packages/gpflow-1.5.1-py3.6.egg/gpflow/training/tensorflow_optimizer.py:169: The name tf.train.AdadeltaOptimizer is deprecated. Please use tf.compat.v1.train.AdadeltaOptimizer instead.\n",
      "\n"
     ]
    },
    {
     "name": "stdout",
     "output_type": "stream",
     "text": [
      "WARNING:tensorflow:From /n/home02/gvalogiannis/.local/lib/python3.6/site-packages/gpflow-1.5.1-py3.6.egg/gpflow/training/tensorflow_optimizer.py:156: The name tf.train.Optimizer is deprecated. Please use tf.compat.v1.train.Optimizer instead.\n",
      "\n"
     ]
    },
    {
     "name": "stderr",
     "output_type": "stream",
     "text": [
      "WARNING:tensorflow:From /n/home02/gvalogiannis/.local/lib/python3.6/site-packages/gpflow-1.5.1-py3.6.egg/gpflow/training/tensorflow_optimizer.py:156: The name tf.train.Optimizer is deprecated. Please use tf.compat.v1.train.Optimizer instead.\n",
      "\n"
     ]
    },
    {
     "name": "stdout",
     "output_type": "stream",
     "text": [
      "WARNING:tensorflow:From /n/home02/gvalogiannis/.local/lib/python3.6/site-packages/gpflow-1.5.1-py3.6.egg/gpflow/training/tensorflow_optimizer.py:169: The name tf.train.AdagradDAOptimizer is deprecated. Please use tf.compat.v1.train.AdagradDAOptimizer instead.\n",
      "\n"
     ]
    },
    {
     "name": "stderr",
     "output_type": "stream",
     "text": [
      "WARNING:tensorflow:From /n/home02/gvalogiannis/.local/lib/python3.6/site-packages/gpflow-1.5.1-py3.6.egg/gpflow/training/tensorflow_optimizer.py:169: The name tf.train.AdagradDAOptimizer is deprecated. Please use tf.compat.v1.train.AdagradDAOptimizer instead.\n",
      "\n"
     ]
    },
    {
     "name": "stdout",
     "output_type": "stream",
     "text": [
      "WARNING:tensorflow:From /n/home02/gvalogiannis/.local/lib/python3.6/site-packages/gpflow-1.5.1-py3.6.egg/gpflow/training/tensorflow_optimizer.py:169: The name tf.train.AdagradOptimizer is deprecated. Please use tf.compat.v1.train.AdagradOptimizer instead.\n",
      "\n"
     ]
    },
    {
     "name": "stderr",
     "output_type": "stream",
     "text": [
      "WARNING:tensorflow:From /n/home02/gvalogiannis/.local/lib/python3.6/site-packages/gpflow-1.5.1-py3.6.egg/gpflow/training/tensorflow_optimizer.py:169: The name tf.train.AdagradOptimizer is deprecated. Please use tf.compat.v1.train.AdagradOptimizer instead.\n",
      "\n"
     ]
    },
    {
     "name": "stdout",
     "output_type": "stream",
     "text": [
      "WARNING:tensorflow:From /n/home02/gvalogiannis/.local/lib/python3.6/site-packages/gpflow-1.5.1-py3.6.egg/gpflow/training/tensorflow_optimizer.py:169: The name tf.train.AdamOptimizer is deprecated. Please use tf.compat.v1.train.AdamOptimizer instead.\n",
      "\n"
     ]
    },
    {
     "name": "stderr",
     "output_type": "stream",
     "text": [
      "WARNING:tensorflow:From /n/home02/gvalogiannis/.local/lib/python3.6/site-packages/gpflow-1.5.1-py3.6.egg/gpflow/training/tensorflow_optimizer.py:169: The name tf.train.AdamOptimizer is deprecated. Please use tf.compat.v1.train.AdamOptimizer instead.\n",
      "\n"
     ]
    },
    {
     "name": "stdout",
     "output_type": "stream",
     "text": [
      "WARNING:tensorflow:From /n/home02/gvalogiannis/.local/lib/python3.6/site-packages/gpflow-1.5.1-py3.6.egg/gpflow/saver/coders.py:80: The name tf.data.Iterator is deprecated. Please use tf.compat.v1.data.Iterator instead.\n",
      "\n"
     ]
    },
    {
     "name": "stderr",
     "output_type": "stream",
     "text": [
      "WARNING:tensorflow:From /n/home02/gvalogiannis/.local/lib/python3.6/site-packages/gpflow-1.5.1-py3.6.egg/gpflow/saver/coders.py:80: The name tf.data.Iterator is deprecated. Please use tf.compat.v1.data.Iterator instead.\n",
      "\n"
     ]
    },
    {
     "name": "stdout",
     "output_type": "stream",
     "text": [
      "WARNING:tensorflow:From /n/home02/gvalogiannis/.local/lib/python3.6/site-packages/gpflow-1.5.1-py3.6.egg/gpflow/core/node.py:125: The name tf.get_default_session is deprecated. Please use tf.compat.v1.get_default_session instead.\n",
      "\n"
     ]
    },
    {
     "name": "stderr",
     "output_type": "stream",
     "text": [
      "WARNING:tensorflow:From /n/home02/gvalogiannis/.local/lib/python3.6/site-packages/gpflow-1.5.1-py3.6.egg/gpflow/core/node.py:125: The name tf.get_default_session is deprecated. Please use tf.compat.v1.get_default_session instead.\n",
      "\n"
     ]
    },
    {
     "name": "stdout",
     "output_type": "stream",
     "text": [
      "WARNING:tensorflow:From /n/home02/gvalogiannis/.local/lib/python3.6/site-packages/gpflow-1.5.1-py3.6.egg/gpflow/session_manager.py:111: The name tf.ConfigProto is deprecated. Please use tf.compat.v1.ConfigProto instead.\n",
      "\n"
     ]
    },
    {
     "name": "stderr",
     "output_type": "stream",
     "text": [
      "WARNING:tensorflow:From /n/home02/gvalogiannis/.local/lib/python3.6/site-packages/gpflow-1.5.1-py3.6.egg/gpflow/session_manager.py:111: The name tf.ConfigProto is deprecated. Please use tf.compat.v1.ConfigProto instead.\n",
      "\n"
     ]
    },
    {
     "name": "stdout",
     "output_type": "stream",
     "text": [
      "WARNING:tensorflow:From /n/home02/gvalogiannis/.local/lib/python3.6/site-packages/gpflow-1.5.1-py3.6.egg/gpflow/core/node.py:109: The name tf.get_default_graph is deprecated. Please use tf.compat.v1.get_default_graph instead.\n",
      "\n"
     ]
    },
    {
     "name": "stderr",
     "output_type": "stream",
     "text": [
      "WARNING:tensorflow:From /n/home02/gvalogiannis/.local/lib/python3.6/site-packages/gpflow-1.5.1-py3.6.egg/gpflow/core/node.py:109: The name tf.get_default_graph is deprecated. Please use tf.compat.v1.get_default_graph instead.\n",
      "\n"
     ]
    }
   ],
   "source": [
    "import matplotlib.pylab as plt\n",
    "import numpy as np\n",
    "from mgemu import emu, emu_fast\n",
    "import pyccl"
   ]
  },
  {
   "cell_type": "code",
   "execution_count": 3,
   "metadata": {},
   "outputs": [],
   "source": [
    "def pmg(Om, h, ns, s8, fR0, n, z):\n",
    "    Omh2 = (h**2)*Om\n",
    "    pkratio, k = emu(Omh2, ns, s8, fR0, n, z)\n",
    "    # cosmo = pyccl.Cosmology(Omega_c= Om, Omega_b=0.0, h=h, n_s=ns, sigma8=s8, transfer_function='bbks')\n",
    "    cosmo = pyccl.Cosmology(Omega_c=Om-0.02203/(h**2), Omega_b=0.02203/(h**2), h=h, sigma8=s8, n_s=ns, Neff=3.04, transfer_function='boltzmann_class', matter_power_spectrum='emu')\n",
    "    a = 1./(1+z)\n",
    "    #Now we have to be careful, because mgemu k-units are in h/Mpc, while CCL units are in 1/Mpc. convert\n",
    "    kccl = k*h\n",
    "    pk_nl = pyccl.nonlin_matter_power(cosmo, kccl, a)\n",
    "    #CCL output pk is in Mpc^3, convert to (Mpc/h)^3\n",
    "    pk_nl *= h*h*h\n",
    "    #pk_mg = pk_lcdm*pkratio\n",
    "    pk_mg = pk_nl*pkratio\n",
    "    return pk_mg, k"
   ]
  },
  {
   "cell_type": "code",
   "execution_count": 13,
   "metadata": {},
   "outputs": [],
   "source": [
    "#Defining function to calculate galaxy power spectrum, using the matter Pk from function pmg\n",
    "#Additional arguments needed are linear bias b1& snot noise term shot\n",
    "def p_ggmg(Om, h, ns, s8, fR0, n, z, b1, shot):\n",
    "    Omh2 = (h**2)*Om\n",
    "    pkratio, k = emu_fast(Omh2, ns, s8, fR0, n, z)\n",
    "    cosmo = pyccl.Cosmology(Omega_c=Om-0.02203/(h**2), Omega_b=0.02203/(h**2), h=h, sigma8=s8, n_s=ns, Neff=3.04, transfer_function='boltzmann_class', matter_power_spectrum='emu')\n",
    "    a = 1./(1+z)\n",
    "    #Now we have to be careful, because mgemu k-units are in h/Mpc, while CCL units are in 1/Mpc. convert k-emu range\n",
    "    kccl = k*h\n",
    "    pk_nl = pyccl.nonlin_matter_power(cosmo, kccl, a)\n",
    "    #CCL output pk is in Mpc^3, convert to (Mpc/h)^3\n",
    "    pk_nl *= h*h*h\n",
    "    #pk_mg = pk_lcdm*pkratio\n",
    "    pk_mg = pk_nl*pkratio\n",
    "    pgg_mg = b1*b1*pk_mg + shot\n",
    "    return pgg_mg, k"
   ]
  },
  {
   "cell_type": "code",
   "execution_count": 50,
   "metadata": {},
   "outputs": [],
   "source": [
    "#New function to define anisotropic galaxy P(k) in MG\n",
    "def p_ggkmu(Om, h, ns, s8, fR0, n, z, b1, shot, mu, sigma):\n",
    "    Omh2 = (h**2)*Om\n",
    "    pkratio, k = emu_fast(Omh2, ns, s8, fR0, n, z)\n",
    "    cosmo = pyccl.Cosmology(Omega_c=Om-0.02203/(h**2), Omega_b=0.02203/(h**2), h=h, sigma8=s8, n_s=ns, Neff=3.04, transfer_function='boltzmann_class', matter_power_spectrum='emu')\n",
    "    a = 1./(1+z)\n",
    "    #Now we have to be careful, because mgemu k-units are in h/Mpc, while CCL units are in 1/Mpc. convert k-emu range\n",
    "    kccl = k*h\n",
    "    pk_nl = pyccl.nonlin_matter_power(cosmo, kccl, a)\n",
    "    #CCL output pk is in Mpc^3, convert to (Mpc/h)^3\n",
    "    pk_nl *= h*h*h\n",
    "    #pk_mg = pk_lcdm*pkratio\n",
    "    pk_mg = pk_nl*pkratio\n",
    "    #Calculate growth rate that is now needed\n",
    "    f = pyccl.growth_rate(cosmo, a)\n",
    "    pgg_mg = (b1+f*mu*mu)*(b1+f*mu*mu)*(pk_mg + shot)*np.exp(-k*k*sigma*sigma*mu*mu) \n",
    "    return pgg_mg, k\n"
   ]
  },
  {
   "cell_type": "code",
   "execution_count": null,
   "metadata": {},
   "outputs": [],
   "source": []
  },
  {
   "cell_type": "code",
   "execution_count": 19,
   "metadata": {},
   "outputs": [],
   "source": [
    "### LCDM parameters\n",
    "h=0.6774 # See README and the accompanying paper regarding the value of h. \n",
    "Om = 0.3089\n",
    "Omh2=(h**2)*Om\n",
    "Obh2 = 0.02203\n",
    "Och2 = Omh2-Obh2\n",
    "ns=0.9667\n",
    "s8=0.8159\n",
    "### Hu-Sawicki model parameters\n",
    "fr0=1e-5\n",
    "n=1\n",
    "### Redshift\n",
    "z=0.0"
   ]
  },
  {
   "cell_type": "code",
   "execution_count": null,
   "metadata": {},
   "outputs": [],
   "source": []
  },
  {
   "cell_type": "code",
   "execution_count": 20,
   "metadata": {},
   "outputs": [],
   "source": [
    "pkratio, k = emu(Omh2=Omh2, ns=ns, s8=s8, fR0=fr0, n=n, z=0.0)"
   ]
  },
  {
   "cell_type": "code",
   "execution_count": 21,
   "metadata": {},
   "outputs": [
    {
     "data": {
      "text/plain": [
       "array([1.00630953, 1.00973392, 1.0130093 , 1.01614017, 1.01913103,\n",
       "       1.02198636, 1.02471066, 1.02730841, 1.02978411, 1.03214225,\n",
       "       1.03438732, 1.03652381, 1.03855622, 1.04048902, 1.04232673,\n",
       "       1.04407382, 1.04573478, 1.04731412, 1.04881631, 1.05024586,\n",
       "       1.05160725, 1.05290497, 1.05414351, 1.05532738, 1.05646105,\n",
       "       1.05754901, 1.05846465, 1.05940558, 1.0603554 , 1.06126941,\n",
       "       1.06228636, 1.06340756, 1.06465437, 1.06609653, 1.06708999,\n",
       "       1.06808017, 1.06902486, 1.06998837, 1.07061636, 1.07164215,\n",
       "       1.07257003, 1.07352405, 1.07442086, 1.07516262, 1.07607013,\n",
       "       1.07668652, 1.07760192, 1.07871082, 1.07953048, 1.08042148,\n",
       "       1.08142387, 1.08238824, 1.0833515 , 1.0841612 , 1.08529435,\n",
       "       1.08573259, 1.08694656, 1.08796133, 1.08878211, 1.08963055,\n",
       "       1.09078431, 1.09186763, 1.09283504, 1.09334059, 1.09451444,\n",
       "       1.09539488, 1.09656997, 1.0975413 , 1.0985796 , 1.09932203,\n",
       "       1.100006  , 1.10103608, 1.10185784, 1.10266463, 1.10355565,\n",
       "       1.10422871, 1.10537971, 1.1065939 , 1.10763062, 1.10865378,\n",
       "       1.10982643, 1.1109298 , 1.11192469, 1.11288141, 1.1134665 ,\n",
       "       1.11428742, 1.11507093, 1.11567555, 1.11635686, 1.1174442 ,\n",
       "       1.11812044, 1.11894646, 1.11965077, 1.12043002, 1.12121714,\n",
       "       1.12192644, 1.12298112, 1.12374511, 1.12442677, 1.12526363,\n",
       "       1.12606424, 1.12685139, 1.12749257, 1.1281165 , 1.128958  ,\n",
       "       1.12935848, 1.13028368, 1.13093537, 1.13158026, 1.13234367,\n",
       "       1.1332939 , 1.13401631, 1.13472254, 1.1354862 , 1.13646663,\n",
       "       1.13726027, 1.13798068, 1.13865983, 1.13922909, 1.14001841,\n",
       "       1.14083752, 1.14175502, 1.14258778, 1.14350176, 1.14443185,\n",
       "       1.14519609, 1.14614172, 1.14675985, 1.14743438, 1.14835334,\n",
       "       1.14922014, 1.15000753, 1.15062113, 1.1514674 , 1.15216964,\n",
       "       1.15289692, 1.15357091, 1.15426143, 1.15491385, 1.15558976,\n",
       "       1.15599952, 1.15676561, 1.15732254, 1.15803844, 1.15861321,\n",
       "       1.15915645, 1.1596634 , 1.16017701, 1.16059599, 1.16095082,\n",
       "       1.16121028, 1.16154862, 1.16176881, 1.16212905, 1.16233488,\n",
       "       1.16234711, 1.16276546, 1.1629043 , 1.16314521, 1.16335454,\n",
       "       1.16359588, 1.16378446, 1.16398207, 1.16430156, 1.16450682,\n",
       "       1.16467689, 1.1649514 , 1.16520637, 1.16565946, 1.1660126 ,\n",
       "       1.16646309, 1.16702961, 1.16741289, 1.16784195, 1.16824859,\n",
       "       1.16885412, 1.16939898, 1.16998165, 1.17085309, 1.17166699,\n",
       "       1.17241199, 1.17320698, 1.17407125, 1.17512299, 1.17596414,\n",
       "       1.17688948, 1.17782421, 1.17883208, 1.1799516 , 1.18109117,\n",
       "       1.18224794, 1.18341903, 1.18460159, 1.18579274, 1.18698961,\n",
       "       1.18818934, 1.18938906, 1.1905859 , 1.191777  , 1.19295948,\n",
       "       1.19413049, 1.19528715, 1.1964266 , 1.19754596, 1.19864238,\n",
       "       1.19971298, 1.2007549 , 1.20176527, 1.20274122, 1.20367988,\n",
       "       1.2045784 , 1.20543389, 1.2062435 ])"
      ]
     },
     "execution_count": 21,
     "metadata": {},
     "output_type": "execute_result"
    }
   ],
   "source": [
    "pkratio"
   ]
  },
  {
   "cell_type": "code",
   "execution_count": 22,
   "metadata": {},
   "outputs": [
    {
     "data": {
      "text/plain": [
       "(array([1.00426693, 1.00658124, 1.00879856, 1.01092189, 1.0129542 ,\n",
       "        1.01489849, 1.01675773, 1.0185349 , 1.020233  , 1.02185499,\n",
       "        1.02340387, 1.02488261, 1.0262942 , 1.02764163, 1.02892786,\n",
       "        1.0301559 , 1.03132871, 1.03244928, 1.0335206 , 1.03454565,\n",
       "        1.0355274 , 1.03646885, 1.03737298, 1.03824276, 1.03908118,\n",
       "        1.03989122, 1.04057588, 1.04128731, 1.04209202, 1.0427711 ,\n",
       "        1.04354946, 1.04438523, 1.04533401, 1.04644792, 1.0472242 ,\n",
       "        1.04802003, 1.04874456, 1.04944414, 1.04989867, 1.0506863 ,\n",
       "        1.05138017, 1.05217043, 1.05289956, 1.05348798, 1.05417763,\n",
       "        1.05470982, 1.05539273, 1.056187  , 1.05685336, 1.05754484,\n",
       "        1.05821749, 1.05892183, 1.05965195, 1.06031085, 1.06129904,\n",
       "        1.06172039, 1.06269438, 1.06338684, 1.06413745, 1.06482225,\n",
       "        1.06581153, 1.06674431, 1.06761702, 1.06804154, 1.06898331,\n",
       "        1.06983427, 1.07076644, 1.07152863, 1.07238717, 1.07307969,\n",
       "        1.07381839, 1.07462324, 1.07532336, 1.07616158, 1.07712531,\n",
       "        1.07791926, 1.07899432, 1.08010849, 1.0812971 , 1.08226704,\n",
       "        1.08331229, 1.08428488, 1.08536924, 1.0862356 , 1.0868633 ,\n",
       "        1.08776551, 1.08857636, 1.08936212, 1.09029598, 1.09122629,\n",
       "        1.092245  , 1.09321254, 1.09400686, 1.09491783, 1.09587436,\n",
       "        1.09679626, 1.09799914, 1.09906668, 1.09995009, 1.10094243,\n",
       "        1.10182082, 1.10276676, 1.10382176, 1.10469763, 1.10563553,\n",
       "        1.10660136, 1.10777874, 1.1086693 , 1.10973294, 1.11065078,\n",
       "        1.1117886 , 1.11285438, 1.11390601, 1.11471325, 1.11576998,\n",
       "        1.1167281 , 1.11741239, 1.1184552 , 1.11932101, 1.1202431 ,\n",
       "        1.1210966 , 1.12177757, 1.12258401, 1.123359  , 1.12431178,\n",
       "        1.12527808, 1.12617515, 1.12701448, 1.12761424, 1.12798185,\n",
       "        1.12853289, 1.12923051, 1.12994262, 1.13011998, 1.13064703,\n",
       "        1.13092224, 1.13147087, 1.13202528, 1.13255006, 1.13305891,\n",
       "        1.13375276, 1.13417162, 1.13468546, 1.13543187, 1.13593641,\n",
       "        1.13652424, 1.13720262, 1.13750202, 1.13811615, 1.13891963,\n",
       "        1.13965065, 1.14059624, 1.1417342 , 1.14278154, 1.14398889,\n",
       "        1.14545079, 1.14662477, 1.14770584, 1.14888335, 1.15019433,\n",
       "        1.15148585, 1.15288856, 1.15430153, 1.15574475, 1.15728957,\n",
       "        1.15878793, 1.16025481, 1.1618977 , 1.16341358, 1.1650074 ,\n",
       "        1.16663641, 1.16828913, 1.16996864, 1.17165038, 1.17339603,\n",
       "        1.17508083, 1.17646236, 1.17788437, 1.17926134, 1.18076122,\n",
       "        1.18222743, 1.18365068, 1.1849885 , 1.18610159, 1.18761917,\n",
       "        1.1888404 , 1.19030669, 1.19160248, 1.19281891, 1.19402541,\n",
       "        1.19522387, 1.19641616, 1.19760419, 1.19878985, 1.19997502,\n",
       "        1.20116161, 1.20235149, 1.20354657, 1.20474873, 1.20595987,\n",
       "        1.20718187, 1.20841663, 1.20966604, 1.210932  , 1.21221638,\n",
       "        1.21352109, 1.21484802, 1.21619905, 1.21757608, 1.218981  ,\n",
       "        1.2204157 , 1.22188208, 1.22338202]),\n",
       " array([0.0312147 , 0.0442523 , 0.054388  , 0.06273525, 0.07010365,\n",
       "        0.0771044 , 0.08893805, 0.0947648 , 0.099384  , 0.10422835,\n",
       "        0.10930885, 0.1128327 , 0.11833265, 0.1260851 , 0.1301498 ,\n",
       "        0.1343455 , 0.1364938 , 0.14089405, 0.14314705, 0.14776175,\n",
       "        0.15496425, 0.15744225, 0.1599599 , 0.1625178 , 0.1704396 ,\n",
       "        0.17316505, 0.1787475 , 0.1816058 , 0.18450985, 0.18746035,\n",
       "        0.190458  , 0.1935036 , 0.19974165, 0.2029357 , 0.20618085,\n",
       "        0.2094779 , 0.21282765, 0.21623095, 0.21968865, 0.22320165,\n",
       "        0.22677085, 0.23039715, 0.23408145, 0.2378246 , 0.2416276 ,\n",
       "        0.24549145, 0.2494171 , 0.2534055 , 0.2574577 , 0.2615747 ,\n",
       "        0.2657575 , 0.2700072 , 0.27432485, 0.27871155, 0.2831684 ,\n",
       "        0.28769655, 0.2922971 , 0.2969712 , 0.30172005, 0.3065448 ,\n",
       "        0.3114467 , 0.316427  , 0.32148695, 0.32662785, 0.33185095,\n",
       "        0.33715755, 0.342549  , 0.34802665, 0.3535919 , 0.35924615,\n",
       "        0.36499085, 0.3708274 , 0.37675725, 0.38278195, 0.388903  ,\n",
       "        0.3951219 , 0.40144025, 0.40785965, 0.4143817 , 0.42100805,\n",
       "        0.42774035, 0.4345803 , 0.44152965, 0.4485901 , 0.45576345,\n",
       "        0.46305155, 0.47045615, 0.47797915, 0.4856225 , 0.49338805,\n",
       "        0.50127775, 0.50929365, 0.5174377 , 0.525712  , 0.53411865,\n",
       "        0.5426597 , 0.5513373 , 0.56015365, 0.56911105, 0.57821165,\n",
       "        0.58745775, 0.59685175, 0.60639595, 0.6160928 , 0.6259447 ,\n",
       "        0.6359541 , 0.6461236 , 0.6564557 , 0.666953  , 0.6776182 ,\n",
       "        0.68845395, 0.69946295, 0.710648  , 0.7220119 , 0.7335575 ,\n",
       "        0.74528775, 0.7572056 , 0.769314  , 0.78161605, 0.7941148 ,\n",
       "        0.8068134 , 0.8197151 , 0.8328231 , 0.8461407 , 0.85967125,\n",
       "        0.8734182 , 0.88738495, 0.901575  , 0.915992  , 0.93063955,\n",
       "        0.94552135, 0.9606411 , 0.9760026 , 0.9916098 , 1.00746655,\n",
       "        1.02357685, 1.03994475, 1.0565744 , 1.07347   , 1.09063575,\n",
       "        1.108076  , 1.12579515, 1.14379765, 1.16208805, 1.1806709 ,\n",
       "        1.1995509 , 1.2187328 , 1.23822145, 1.25802175, 1.27813865,\n",
       "        1.29857725, 1.3193427 , 1.3404402 , 1.36187505, 1.38365265,\n",
       "        1.4057785 , 1.4282582 , 1.45109735, 1.4743017 , 1.49787715,\n",
       "        1.5218296 , 1.546165  , 1.5708896 , 1.5960096 , 1.6215312 ,\n",
       "        1.64746095, 1.67380535, 1.700571  , 1.7277647 , 1.75539325,\n",
       "        1.7834636 , 1.8119828 , 1.84095805, 1.87039665, 1.900306  ,\n",
       "        1.9306936 , 1.96156715, 1.9929344 , 2.0248032 , 2.05718165,\n",
       "        2.0900779 , 2.12350015, 2.15745685, 2.19195655, 2.2270079 ,\n",
       "        2.2626198 , 2.29880115, 2.33556105, 2.3729088 , 2.4108538 ,\n",
       "        2.44940555, 2.48857375, 2.5283683 , 2.56879925, 2.6098767 ,\n",
       "        2.651611  , 2.6940127 , 2.7370924 , 2.780861  , 2.8253295 ,\n",
       "        2.8705091 , 2.91641115, 2.9630472 , 3.01042905, 3.05856855,\n",
       "        3.1074778 , 3.1571692 , 3.20765525, 3.2589486 , 3.31106215,\n",
       "        3.364009  , 3.41780255, 3.47245635]))"
      ]
     },
     "execution_count": 22,
     "metadata": {},
     "output_type": "execute_result"
    }
   ],
   "source": [
    "emu_fast(Omh2=Omh2, ns=ns, s8=s8, fR0=fr0, n=n, z=0.24)"
   ]
  },
  {
   "cell_type": "code",
   "execution_count": null,
   "metadata": {},
   "outputs": [],
   "source": []
  },
  {
   "cell_type": "code",
   "execution_count": 39,
   "metadata": {},
   "outputs": [],
   "source": [
    "# cosmo = pyccl.Cosmology(Omega_c= Om, Omega_b=0.0, h=h, n_s=ns, sigma8=s8, transfer_function='bbks')\n",
    "cosmo = pyccl.Cosmology(Omega_c=Och2/(h**2), Omega_b=Obh2/(h**2), h=h, sigma8=s8, n_s=ns, Neff=3.04, transfer_function='bbks', matter_power_spectrum='emu')\n",
    "#pyccl.comoving_radial_distance(cosmo, 1./(1+z))\n",
    "a = 1./(1+z)\n",
    "pk_lcdm = pyccl.nonlin_matter_power(cosmo, k*h, a)\n",
    "pk_lcdm *= h*h*h"
   ]
  },
  {
   "cell_type": "code",
   "execution_count": 45,
   "metadata": {},
   "outputs": [],
   "source": [
    "ff = pyccl.growth_rate(cosmo, 1.0)"
   ]
  },
  {
   "cell_type": "code",
   "execution_count": 46,
   "metadata": {},
   "outputs": [
    {
     "data": {
      "text/plain": [
       "0.5213039499821192"
      ]
     },
     "execution_count": 46,
     "metadata": {},
     "output_type": "execute_result"
    }
   ],
   "source": [
    "ff"
   ]
  },
  {
   "cell_type": "code",
   "execution_count": 49,
   "metadata": {},
   "outputs": [
    {
     "data": {
      "text/plain": [
       "0.000263960121977361"
      ]
     },
     "execution_count": 49,
     "metadata": {},
     "output_type": "execute_result"
    }
   ],
   "source": [
    "pyccl.growth_factor_unnorm(cosmo, 0.01)"
   ]
  },
  {
   "cell_type": "code",
   "execution_count": null,
   "metadata": {},
   "outputs": [],
   "source": []
  },
  {
   "cell_type": "code",
   "execution_count": 26,
   "metadata": {},
   "outputs": [
    {
     "data": {
      "image/png": "[encoded data removed]",
      "text/plain": [
       "<Figure size 648x432 with 1 Axes>"
      ]
     },
     "metadata": {
      "needs_background": "light"
     },
     "output_type": "display_data"
    }
   ],
   "source": [
    "import matplotlib.pylab as plt\n",
    "import numpy as np\n",
    "\n",
    "plt.figure(1, figsize=(9, 6) )\n",
    "plt.tick_params(axis='both', which='major', labelsize=22)\n",
    "fR0_arr= np.logspace(-6, -4, 5)\n",
    "b1 =1.2\n",
    "shot = 10.0\n",
    "for i in range(5):\n",
    "    fR0 = fR0_arr[i]\n",
    "    p_mg, k = pmg(Om, h, ns, s8, fR0, n, z)\n",
    "    #p_gg, k = p_ggmg(Om, h, ns, s8, fR0, n, z, b1, shot)\n",
    "    #plt.plot(k, p_mg, label = \"log(fR0)={:.2f}\".format(np.log10(fR0)) )\n",
    "    plt.plot(k, p_gg, label = \"log(fR0)={:.2f}\".format(np.log10(fR0)) )\n",
    "plt.xscale('log')\n",
    "plt.yscale('log')\n",
    "plt.ylabel(r'$P_{MG}(k)$', fontsize=23)\n",
    "plt.xlabel(r'$k$', fontsize=23)\n",
    "plt.legend(fontsize=14)\n",
    "plt.xlim(0, 1.01)\n",
    "#plt.ylim(1e3,)\n",
    "\n",
    "\n",
    "plt.show()"
   ]
  },
  {
   "cell_type": "code",
   "execution_count": 10,
   "metadata": {
    "collapsed": true
   },
   "outputs": [],
   "source": [
    "#Now that we can evalute the galaxy Pk for a given MG cosmology, let's build functions to actually predict the galaxy bias and shot noise for a realistic LSST sample "
   ]
  },
  {
   "cell_type": "code",
   "execution_count": 27,
   "metadata": {},
   "outputs": [],
   "source": [
    "import math\n",
    "from scipy.interpolate import interp1d\n",
    "from scipy.integrate import quad, dblquad\n",
    "from scipy.special import gamma\n",
    "from scipy.integrate import odeint"
   ]
  },
  {
   "cell_type": "code",
   "execution_count": 28,
   "metadata": {},
   "outputs": [],
   "source": [
    "#Define a-dependent functions for growth factor equation\n",
    "def Omegatime(a, Om0):\n",
    " return Om0/(Om0+(1-Om0)*a*a*a)\n",
    "#adot\n",
    "def adot(a, Om0):\n",
    " return np.sqrt(Om0/a+(1-Om0)*a*a)\n",
    "def H(a, Om0):\n",
    " return adot(a, Om0)/a\n",
    "def adotprime(a, Om0):\n",
    " return (-Om0/a/a + 2*(1-Om0)*a)/np.sqrt(Om0/a+(1-Om0)*a*a)/2\n",
    "#Define additional functions needed for\n",
    "def mfr(a, Om0, fr0, nfr): #scalar field mass\n",
    " return (1/2997.72)*math.sqrt(1./(nfr+1)/fr0)*math.sqrt(math.pow(Om0+4*(1-Om0),-nfr-1))*math.sqrt(math.pow(Om0/a/a/a+4*(1-Om0),2+nfr))\n",
    "#Define 1/adot^3 integrand\n",
    "def invadot3(a, Om0):\n",
    " return 1/adot(a, Om0)/adot(a, Om0)/adot(a, Om0)\n",
    "#Define 1/adot^3 integral\n",
    "def intToday(Om0, amin):\n",
    " return quad(invadot3,0,amin,args=(Om0))[0]\n",
    "def Damin(Om0, amin):\n",
    " return 2.5*Om0*H(amin, Om0)*intToday(Om0, amin)\n",
    "def DH1(a, Om0):\n",
    " return -3*Om0/(2*a*a*a*math.sqrt((a*a*a+Om0-Om0*a*a*a)/a))\n",
    "def der0(Om0, amin):\n",
    " return 2.5*Om0*(DH1(amin, Om0)*intToday(Om0, amin)+H(amin, Om0)*invadot3(amin, Om0))"
   ]
  },
  {
   "cell_type": "code",
   "execution_count": 29,
   "metadata": {},
   "outputs": [],
   "source": [
    "#Setup integration to get comoving volume for various z bin\n",
    "#Comoving distance integrator\n",
    "def integrand(a, Omm):\n",
    " return 1/math.sqrt(a*Omm+a*a*a*a*(1-Omm))\n",
    "#get comoving volume\n",
    "def Vcom(z, Omm):\n",
    " return (4*math.pi*20000)/(3*41252.96)*math.pow(2997.92458*quad(integrand, 1./(1+z), 1, args=(Omm))[0],3)#*math.pow(10,-9)\n",
    "#get comoving differential volume in redshift bin with width +-0.05\n",
    "def Vbin(z, Omm, bin):\n",
    " return Vcom(z+bin, Omm)-Vcom(z-bin, Omm)\n",
    "Veff=np.vectorize(Vbin)\n",
    "\n",
    "#Define function fro differential dN/dz to be integrated\n",
    "def dNdz(z, alpha, z0, ntot):\n",
    " return (ntot*alpha/(z0*gamma(3.0/alpha)))*(z/z0)*(z/z0)*math.exp(-math.pow(z/z0,alpha))\n",
    "def Nz(z, alpha, z0, ntot, bin):\n",
    " return quad(dNdz, z-bin, z+bin, args=(alpha, z0, ntot))[0]"
   ]
  },
  {
   "cell_type": "code",
   "execution_count": 30,
   "metadata": {},
   "outputs": [],
   "source": [
    "#Setup basic parameters for year10&Y1 LSST photo-z samples\n",
    "NY10=48*20000*3600\n",
    "ay10= 0.90\n",
    "z0y10 = 0.28\n",
    "biny10 = 0.05\n",
    "b1y10 = 0.95\n",
    "#for year1 sample\n",
    "NY1=18*20000*3600\n",
    "ay1= 0.94\n",
    "z0y1 = 0.26\n",
    "biny1 = 0.1\n",
    "b1y1 = 1.05"
   ]
  },
  {
   "cell_type": "code",
   "execution_count": 31,
   "metadata": {},
   "outputs": [],
   "source": [
    "abserr = 1.0e-13\n",
    "relerr = 1.0e-13\n",
    "#Define growth factor differential equation system\n",
    "def growth(y, a, Om0):\n",
    " D, w = y\n",
    " dyda = [w, -(adotprime(a, Om0) + 2*H(a, Om0))*w/adot(a, Om0) + 1.5*Omegatime(a, Om0)*H(a, Om0)*H(a, Om0)*D/adot(a, Om0)/adot(a, Om0)]\n",
    " return dyda\n",
    " \n",
    "#y0 = [0.0019999999,0.999999999]\n",
    "arange = np.logspace(math.log(0.002,10),math.log(1,10),1000)\n",
    "#setting up boundary conditions\n",
    "y0 = [Damin(Om, arange[0]),der0(Om, arange[0])]\n",
    "sol = odeint(growth, y0, arange, args=(Om,), atol=abserr, rtol=relerr)\n",
    "#Spline GR growth factor  solution and growth rate.\n",
    "Dgr = interp1d(arange, sol[:,0], kind='cubic')\n",
    "#and also growth rate\n",
    "fgr = interp1d(arange, arange*sol[:,1]/sol[:,0], kind='cubic')"
   ]
  },
  {
   "cell_type": "code",
   "execution_count": 32,
   "metadata": {},
   "outputs": [],
   "source": [
    "timesteps = np.loadtxt('timestepsCOLA.txt')\n",
    "irangey10 = np.array([43,45,48,53,57,61,65,70,75,82])\n",
    "irangey1 = np.array([43,48,57,65,75])\n",
    "Nt = irangey10[irangey10.shape[0]-1]\n",
    "\n",
    "Nseed=2000 #25"
   ]
  },
  {
   "cell_type": "code",
   "execution_count": 33,
   "metadata": {
    "scrolled": true
   },
   "outputs": [
    {
     "name": "stdout",
     "output_type": "stream",
     "text": [
      "a,z,b_1= 0.4512 1.216313 1.7096583337348537\n",
      "a,z,b_1= 0.4708 1.124045 1.645654696216662\n",
      "a,z,b_1= 0.5002 0.999201 1.5599659653732123\n",
      "a,z,b_1= 0.5492 0.820831 1.439767025161971\n",
      "a,z,b_1= 0.5884 0.699524 1.359885641811489\n",
      "a,z,b_1= 0.6276 0.593372 1.2915087247085706\n",
      "a,z,b_1= 0.6668 0.4997 1.232567867300583\n",
      "a,z,b_1= 0.7158 0.397038 1.169726499808988\n",
      "a,z,b_1= 0.7648 0.307531 1.1166678302825346\n",
      "a,z,b_1= 0.8334 0.199904 1.0553364364635174\n"
     ]
    }
   ],
   "source": [
    "#Now iterate of different snapshots\n",
    "for i in (irangey10):\n",
    " astep = timesteps[i,0]\n",
    " zstep = timesteps[i,1]\n",
    " #linear bias for galaxy sample, in our case Y10\n",
    " b1=b1y10*Dgr(1)/Dgr(astep) #Bias for Y10\n",
    " #b1=b1y1*Dgr(1)/Dgr(astep) #Bias for Y10\n",
    " print ('a,z,b_1=',astep, zstep, b1)"
   ]
  },
  {
   "cell_type": "code",
   "execution_count": 34,
   "metadata": {},
   "outputs": [
    {
     "data": {
      "image/png": "[encoded data removed]",
      "text/plain": [
       "<Figure size 720x504 with 1 Axes>"
      ]
     },
     "metadata": {
      "needs_background": "light"
     },
     "output_type": "display_data"
    }
   ],
   "source": [
    "#Evaluate and Plot P_gg for 10 snapshots of the Y10 galaxy sample\n",
    "plt.figure(1, figsize=(10, 7) )\n",
    "plt.tick_params(axis='both', which='major', labelsize=22)\n",
    "fR0_arr= np.logspace(-6, -4, 5)\n",
    "#b1 =1.2\n",
    "#shot = 10.0\n",
    "for i in (irangey10):\n",
    "    astep = timesteps[i,0]\n",
    "    zstep = timesteps[i,1]\n",
    "    #linear bias for galaxy sample, in our case Y10\n",
    "    b1=b1y10*Dgr(1)/Dgr(astep) #Bias for Y10\n",
    "    Shot = Veff(zstep, Om, biny10)/Nz(zstep, ay10, z0y10, NY10, biny10)\n",
    "    p_gg, k = p_ggmg(Om, h, ns, s8, fR0, n, zstep, b1, shot)\n",
    "    #plt.plot(k, p_mg, label = \"log(fR0)={:.2f}\".format(np.log10(fR0)) )\n",
    "    plt.plot(k, p_gg, label = \"z={:.2f}\".format(zstep) )\n",
    "plt.xscale('log')\n",
    "plt.yscale('log')\n",
    "plt.ylabel(r'$V_{eff}(k)$', fontsize=23)\n",
    "plt.xlabel(r'$k$', fontsize=23)\n",
    "plt.legend(fontsize=14)\n",
    "plt.xlim(0, 1.01)\n",
    "#plt.ylim(1e3,)\n",
    "\n",
    "\n",
    "plt.show()"
   ]
  },
  {
   "cell_type": "code",
   "execution_count": 35,
   "metadata": {},
   "outputs": [],
   "source": [
    "#print (Nseed, k.shape[0],((Nseed-k.shape[0]-2)/(Nseed-1)))\n",
    "#Import covariance matrices\n",
    "for i in (irangey10):\n",
    "    astep = timesteps[i,0]\n",
    "    zstep = timesteps[i,1]\n",
    "    locals()['covPMGmat_'+str(i)] = np.loadtxt('./Covariance_data/covariance_step_'+str(i)+'.txt')\n",
    "    locals()['InvcovPMGmat_'+str(i)] = ((Nseed-k.shape[0]-2)/(Nseed-1))*np.linalg.inv(locals()['covPMGmat_'+str(i)])"
   ]
  },
  {
   "cell_type": "code",
   "execution_count": 36,
   "metadata": {},
   "outputs": [],
   "source": [
    "kvec = k\n",
    "def applyPlotStyle14():\n",
    " plt.tick_params(axis='both',which='major',length=5, left='on', right='on', width=1, direction='inout')\n",
    " plt.tick_params(axis='both',which='minor',length=3.2,left='on', right='on', width=1, direction='inout')\n",
    " plt.tick_params(which='both',width=1.3)\n",
    " plt.grid(True)\n",
    " plt.xscale(\"log\")\n",
    " plt.yscale(\"log\")\n",
    " plt.xlim(kvec[0], kvec[kvec.shape[0]-1])\n",
    " plt.ylim(kvec[0], kvec[kvec.shape[0]-1])\n",
    " #plt.ylabel(r\"$\\frac{P_{MG}}{P_{\\Lambda CDM}}$\",fontsize=18)\n",
    " plt.xlabel(r\"$k (h/Mpc)$\",fontsize=18)\n",
    " plt.ylabel(r\"$k (h/Mpc)$\",fontsize=18)\n",
    " #plt.ylabel(r\"$r (Mpc/h)$\",fontsize=18)\n",
    " plt.legend(loc=\"best\", frameon=False, numpoints=1, prop={'size':12})"
   ]
  },
  {
   "cell_type": "code",
   "execution_count": 21,
   "metadata": {},
   "outputs": [
    {
     "name": "stderr",
     "output_type": "stream",
     "text": [
      "WARNING:matplotlib.legend:No handles with labels found to put in legend.\n"
     ]
    },
    {
     "data": {
      "image/png": "[encoded data removed]",
      "text/plain": [
       "<Figure size 432x288 with 2 Axes>"
      ]
     },
     "metadata": {},
     "output_type": "display_data"
    }
   ],
   "source": [
    "#Get correlation matrix for step=43\n",
    "covxx = np.sqrt(np.diag(covPMGmat_82))*np.identity(len(kvec))\n",
    "invcoxx = np.linalg.inv(covxx)\n",
    "corrPMGmat_43 = np.dot(invcoxx,np.dot(covPMGmat_82,invcoxx))\n",
    "import scipy.ndimage as scim\n",
    "sigma_x = sigma_y = 2.0\n",
    "sigma = [sigma_y, sigma_x]\n",
    "cov_mat2 = scim.filters.gaussian_filter(covPMGmat_82, sigma, mode='wrap')\n",
    "covxxsmopth = np.sqrt(np.diag(cov_mat2))*np.identity(len(kvec))\n",
    "invcov_mat2 = np.linalg.inv(covxxsmopth)\n",
    "corr_mat2 = np.dot(invcov_mat2,np.dot(cov_mat2,invcov_mat2))\n",
    "from matplotlib import gridspec\n",
    "from matplotlib import cm\n",
    "fig11=plt.figure('test')\n",
    "ax=fig11.add_subplot(111)\n",
    "applyPlotStyle14()\n",
    "ax.set_title('Galaxy-Galaxy correlation')\n",
    "#pltcov=ax.pcolormesh(kvec,kvec,covPMGmat_43, cmap='plasma')\n",
    "#pltcov=ax.pcolormesh(kvec,kvec,corrPMGmat_43, cmap='plasma')\n",
    "pltcov=ax.pcolormesh(kvec,kvec,corr_mat2, cmap='plasma')\n",
    "fig11.colorbar(pltcov, ax=ax)\n",
    "plt.tight_layout()\n",
    "plt.show()"
   ]
  },
  {
   "cell_type": "code",
   "execution_count": 37,
   "metadata": {},
   "outputs": [],
   "source": [
    "npar = 6 #no of paramaters to constrain\n",
    "FY10tot = np.zeros([npar,npar])\n",
    "FY1tot = np.zeros([npar,npar])\n",
    "#imax =  60 #135 #maximum k scale array index\n",
    "imax = 21"
   ]
  },
  {
   "cell_type": "code",
   "execution_count": 38,
   "metadata": {},
   "outputs": [
    {
     "name": "stdout",
     "output_type": "stream",
     "text": [
      "[0.0312147  0.0442523  0.054388   0.06273525 0.07010365 0.0771044\n",
      " 0.08893805 0.0947648  0.099384   0.10422835 0.10930885 0.1128327\n",
      " 0.11833265 0.1260851  0.1301498  0.1343455  0.1364938  0.14089405\n",
      " 0.14314705 0.14776175 0.15496425]\n"
     ]
    }
   ],
   "source": [
    "#Setup integration to get Fisher matrix using Tegmark's analytical formula\n",
    "#Integrand\n",
    "#def integrandFisher(kk, derD1, derD2, D, kvec):\n",
    " #construct splines of vectors, to make integrator happy\n",
    "# der1int = interp1d(kvec, derD1, kind='cubic')\n",
    "# der2int = interp1d(kvec, derD2, kind='cubic')\n",
    "# Pfidint = interp1d(kvec, D, kind='cubic')    \n",
    "# return kk*kk*der1int(kk)*der2int(kk)/Pfidint(kk)/Pfidint(kk)\n",
    "#integrandFisher = np.vectorize(integrandFisher)\n",
    "#Quadrature\n",
    "#def Fisher_gaussian(derD1, derD2, D, kvec, imax):\n",
    "# return quad(integrandFisher, kvec[0], kvec[imax], args=(derD1, derD2, D, kvec))[0]#*math.pow(10,-9)\n",
    "#Fisher_gaussian = np.vectorize(Fisher_gaussian)\n",
    "print (kvec[0:imax])"
   ]
  },
  {
   "cell_type": "code",
   "execution_count": 51,
   "metadata": {},
   "outputs": [
    {
     "data": {
      "image/png": "[encoded data removed]",
      "text/plain": [
       "<Figure size 720x504 with 1 Axes>"
      ]
     },
     "metadata": {
      "needs_background": "light"
     },
     "output_type": "display_data"
    }
   ],
   "source": [
    "plt.figure(1, figsize=(10, 7) )\n",
    "plt.tick_params(axis='both', which='major', labelsize=22)\n",
    "fR0_arr= np.logspace(-6, -4, 5)\n",
    "#b1 =1.2\n",
    "#shot = 10.0\n",
    "for i in (irangey10):\n",
    "    astep = timesteps[i,0]\n",
    "    zstep = timesteps[i,1]\n",
    "    #linear bias for galaxy sample, in our case Y10\n",
    "    b1=b1y10*Dgr(1)/Dgr(astep) #Bias for Y10\n",
    "    Shot = Veff(zstep, Om, biny10)/Nz(zstep, ay10, z0y10, NY10, biny10)\n",
    "    Pfid, kkk = p_ggmg(Om, h, ns, s8, fr0, n, zstep, b1, Shot)\n",
    "    nlit = 1.0/Shot\n",
    "    plt.plot(kkk, (nlit*Pfid)*(nlit*Pfid)/(1.0+nlit*Pfid)/(1.0+nlit*Pfid), label = \"z={:.2f}\".format(zstep) )\n",
    "plt.xscale('log')\n",
    "#plt.yscale('log')\n",
    "plt.ylabel(r'$P_{gg}(k)$', fontsize=23)\n",
    "plt.xlabel(r'$k$', fontsize=23)\n",
    "plt.legend(fontsize=14)\n",
    "plt.xlim(0, 1.01)\n",
    "#plt.ylim(1e3,)\n",
    "\n",
    "\n",
    "plt.show()"
   ]
  },
  {
   "cell_type": "code",
   "execution_count": 25,
   "metadata": {},
   "outputs": [],
   "source": [
    "#Calculating derivatives for Y10 sample\n",
    "#for i in (irangey10):\n",
    "Omstep = 0.003\n",
    "s8step = 0.05 #0.05\n",
    "nsstep = 0.03 #0.025\n",
    "fr0step = fr0*0.1\n",
    "nstep = 0.1*n\n",
    "b1step=0.01\n",
    "#for i in range(82,83):\n",
    "for i in (irangey10):\n",
    "    astep = timesteps[i,0]\n",
    "    zstep = timesteps[i,1]\n",
    "    #linear bias for galaxy sample, in our case Y10\n",
    "    b1=b1y10*Dgr(1)/Dgr(astep) #Bias for Y10\n",
    "    Shot = Veff(zstep, Om, biny10)/Nz(zstep, ay10, z0y10, NY10, biny10)\n",
    "    ndens = 1.0/Shot\n",
    "    Pfid, kkk = p_ggmg(Om, h, ns, s8, fr0, n, zstep, b1, Shot)\n",
    "    Pfidint = interp1d(kkk, Pfid, kind='cubic')\n",
    "    Vol = Veff(zstep, Om, biny10)\n",
    "    #Start with Omh2 derivatives\n",
    "    Omh2up = Omh2 + Omstep\n",
    "    Omh2down = Omh2 - Omstep\n",
    "    Omup = Omh2up/h/h\n",
    "    Omdown = Omh2down/h/h\n",
    "    #Now we need to be careful. When Om changes, growth factor and Volume change, -> bias&shot noise change\n",
    "    y0up = [Damin(Omup, arange[0]),der0(Omup, arange[0])]\n",
    "    solup = odeint(growth, y0up, arange, args=(Omup,), atol=abserr, rtol=relerr)\n",
    "    #Spline GR growth factor  solution and growth rate.\n",
    "    Dgrup = interp1d(arange, solup[:,0], kind='cubic')\n",
    "    b1up=b1y10*Dgrup(1)/Dgrup(astep)\n",
    "    Shotup = Veff(zstep, Omup, biny10)/Nz(zstep, ay10, z0y10, NY10, biny10)\n",
    "    p_ggup, k = p_ggmg(Omup, h, ns, s8, fr0, n, zstep, b1up, Shotup)\n",
    "    #Do same for down\n",
    "    y0down = [Damin(Omdown, arange[0]),der0(Omdown, arange[0])]\n",
    "    soldown = odeint(growth, y0down, arange, args=(Omdown,), atol=abserr, rtol=relerr)\n",
    "    #Spline GR growth factor  solution and growth rate.\n",
    "    Dgrdown = interp1d(arange, soldown[:,0], kind='cubic')\n",
    "    b1down=b1y10*Dgrdown(1)/Dgrdown(astep)\n",
    "    Shotdown = Veff(zstep, Omdown, biny10)/Nz(zstep, ay10, z0y10, NY10, biny10)\n",
    "    p_ggdown, k = p_ggmg(Omdown, h, ns, s8, fr0, n, zstep, b1down, Shotdown)\n",
    "    #And evaluate derivative\n",
    "    derOmh = (p_ggup-p_ggdown)/2/Omstep\n",
    "    #dertot array for all derivatives to be stacked\n",
    "    dertot = derOmh\n",
    "    #print (derOmh)\n",
    "    #Now move on to sigma_8\n",
    "    s8up = s8 + s8step\n",
    "    p_ggup, k = p_ggmg(Om, h, ns, s8up, fr0, n, zstep, b1, Shot)\n",
    "    s8down = s8 - s8step\n",
    "    p_ggdown, k = p_ggmg(Om, h, ns, s8down, fr0, n, zstep, b1, Shot)\n",
    "    #derivative\n",
    "    ders8 = (p_ggup-p_ggdown)/2/s8step\n",
    "    dertot = np.vstack((dertot,ders8))\n",
    "    #print (dertot.shape)\n",
    "    #Now move on to n_s\n",
    "    nsup = ns + nsstep\n",
    "    p_ggup, k = p_ggmg(Om, h, nsup, s8, fr0, n, zstep, b1, Shot)\n",
    "    nsdown = ns - nsstep\n",
    "    p_ggdown, k = p_ggmg(Om, h, nsdown, s8, fr0, n, zstep, b1, Shot)\n",
    "    derns = (p_ggup-p_ggdown)/2/nsstep\n",
    "    dertot = np.vstack((dertot,derns))\n",
    "    #print (dertot.shape)  \n",
    "    #Now move on to fr0\n",
    "    fr0up = fr0 + fr0step\n",
    "    p_ggup, k = p_ggmg(Om, h, ns, s8, fr0up, n, zstep, b1, Shot)\n",
    "    fr0down = fr0 - fr0step\n",
    "    p_ggdown, k = p_ggmg(Om, h, ns, s8, fr0down, n, zstep, b1, Shot)\n",
    "    derfr = fr0*(p_ggup-p_ggdown)/2/fr0step\n",
    "    dertot = np.vstack((dertot,derfr)) \n",
    "    #print (dertot.shape)\n",
    "    #Now move on to n\n",
    "    nup = n + nstep\n",
    "    p_ggup, k = p_ggmg(Om, h, ns, s8, fr0, nup, zstep, b1, Shot)\n",
    "    ndown = n - nstep\n",
    "    p_ggdown, k = p_ggmg(Om, h, ns, s8, fr0, ndown, zstep, b1, Shot)\n",
    "    dern = (p_ggup-p_ggdown)/2/nstep\n",
    "    dertot = np.vstack((dertot,dern)) \n",
    "    #print (dertot.shape)\n",
    "    #Finally, do nuissance parameter b_1\n",
    "    b1up = b1 + b1step\n",
    "    p_ggup, k = p_ggmg(Om, h, ns, s8, fr0, n, zstep, b1up, Shot)\n",
    "    b1down = b1 - b1step\n",
    "    p_ggdown, k = p_ggmg(Om, h, ns, s8, fr0, n, zstep, b1down, Shot)\n",
    "    derb = (p_ggup-p_ggdown)/2/b1step\n",
    "    dertot = np.vstack((dertot,derb))    \n",
    "    #print (dertot.shape)\n",
    "    #print (dertot)\n",
    "    #Now that all the derivatives have been evaluated, it's time to import the covariance matrix for given z-snapshot\n",
    "    #covPMGmatz = np.loadtxt('./Covariance_data/covariance_step_'+str(i)+'.txt')\n",
    "    #InvcovPMGmatz = ((Nseed-kvec.shape[0]-2)/(Nseed-1))*np.linalg.inv(covPMGmatz)[0:imax,0:imax]\n",
    "    #Diagonal approximation, temporary test\n",
    "    #covPMGmatz = np.diag(covPMGmat_82)*np.identity(len(kvec))\n",
    "    #InvcovPMGmatz = np.linalg.inv(covPMGmatz[0:imax,0:imax])\n",
    "    dertot = dertot.T \n",
    "    #loop over all parameters to populate it    \n",
    "    for ii in range(npar):\n",
    "      for jj in range(npar):\n",
    "        #FY10tot[ii,jj] += np.dot(dertot[0:imax,ii],np.dot(InvcovPMGmatz,dertot[0:imax,jj]))\n",
    "        #Analytical approximation\n",
    "        der1int = interp1d(kvec, dertot[:,ii], kind='cubic')\n",
    "        der2int = interp1d(kvec, dertot[:,jj], kind='cubic')         \n",
    "        def integrandFisher(kk):\n",
    "         #construct splines of vectors, to make integrator happy \n",
    "         Vk = (ndens*Pfidint(kk))*(ndens*Pfidint(kk))/(1.0 + ndens*Pfidint(kk))/(1.0 + ndens*Pfidint(kk))\n",
    "         return kk*kk*der1int(kk)*der2int(kk)*Vk/Pfidint(kk)/Pfidint(kk)\n",
    "        integrandFisher = np.vectorize(integrandFisher) \n",
    "        def Fisher_gaussian(imax):\n",
    "         return quad(integrandFisher, kvec[0], kvec[imax])[0]#*math.pow(10,-9)\n",
    "        Fisher_gaussian = np.vectorize(Fisher_gaussian)\n",
    "        FY10tot[ii,jj] += Vol*Fisher_gaussian(imax)/4/math.pi/math.pi"
   ]
  },
  {
   "cell_type": "code",
   "execution_count": 26,
   "metadata": {},
   "outputs": [
    {
     "name": "stdout",
     "output_type": "stream",
     "text": [
      "0.6222841455081789\n"
     ]
    }
   ],
   "source": [
    "#dertot = dertot.T\n",
    "#print (dertot[:,0].shape)\n",
    "#print (dertot)\n",
    "#FisheTest = np.dot(dertot[:,3],np.dot(InvcovPMGmat_43,dertot[:,3]))\n",
    "#print (k[0:60])\n",
    "print (np.sqrt(np.linalg.inv(FY10tot)[3,3]))\n",
    "#print (np.linalg.inv(FY10tot)[3,3])\n",
    "#covPMGmatztest = np.loadtxt('./Covariance_data/covariance_step_43.txt')\n",
    "#Inv1 = np.linalg.inv(covPMGmatztest[0:imax,0:imax])\n",
    "#Inv2 = np.linalg.inv(covPMGmatztest)[0:imax,0:imax]\n",
    "#print (Inv1/Inv2)\n",
    "#print (((Nseed-k.shape[0]-2)/(Nseed-1))/((Nseed-60-2)/(Nseed-1)))\n",
    "#print ((Nseed-imax-2)/(Nseed-1))"
   ]
  },
  {
   "cell_type": "code",
   "execution_count": null,
   "metadata": {},
   "outputs": [],
   "source": [
    "fig = plt.figure('dertest')\n",
    "print (zstep)\n",
    "fr0up = fr0 + fr0step\n",
    "#p_ggup, k = p_ggmg(Om, h, ns, s8, fr0up, n, zstep, b1, Shot)\n",
    "fr0down = fr0 - fr0step\n",
    "#p_ggdown, k = p_ggmg(Om, h, ns, s8, fr0down, n, zstep, b1, Shot)\n",
    "#plt.loglog(k, p_ggup, color='r')\n",
    "#plt.loglog(k, p_ggdown, color='r')\n",
    "plt.semilogx(k,dertot[:,4])\n",
    "plt.semilogx(k,dertot[:,4])\n",
    "plt.show()"
   ]
  },
  {
   "cell_type": "code",
   "execution_count": null,
   "metadata": {},
   "outputs": [],
   "source": [
    "fig = plt.figure('frtest')\n",
    "#zstep = \n",
    "fr0stepint = fr0*0.01\n",
    "fr0up = fr0 + fr0stepint\n",
    "#p_ggup, k = p_ggmg(Om, h, ns, s8, fr0up, n, zstep, b1, Shot)\n",
    "fr0down = fr0 - fr0stepint\n",
    "#p_ggdown, k = p_ggmg(Om, h, ns, s8, fr0down, n, zstep, b1, Shot)\n",
    "astep = 1./(1+zstep)\n",
    "pk_lcdm = pyccl.nonlin_matter_power(cosmo, k*h, astep)\n",
    "pk_lcdm *= h*h*h\n",
    "#plt.loglog(k, p_ggup, color='r')\n",
    "#plt.loglog(k, p_ggdown, color='b')\n",
    "#plt.semilogx(k,fr0*(p_ggup-p_ggdown)/(fr0stepint*2))\n",
    "#plt.semilogx(k,(p_ggup/p_ggdown))\n",
    "plt.semilogx(k,(p_ggdown/pk_lcdm))\n",
    "#plt.semilogx(k,dertot[:,3])\n",
    "plt.show()"
   ]
  },
  {
   "cell_type": "code",
   "execution_count": 27,
   "metadata": {
    "collapsed": true
   },
   "outputs": [],
   "source": [
    "np.savetxt('./Covariance_data/FisherzY10analk015.txt', FY10tot)"
   ]
  },
  {
   "cell_type": "code",
   "execution_count": null,
   "metadata": {},
   "outputs": [],
   "source": [
    "#Repeating previous calculation for Y1 sample\n",
    "Omstep = 0.003\n",
    "s8step = 0.05 #0.05\n",
    "nsstep = 0.03 #0.025\n",
    "fr0step = fr0*0.1\n",
    "nstep = 0.1*n\n",
    "b1step=0.01\n",
    "#for i in range(43,44):\n",
    "for i in (irangey1):\n",
    "    astep = timesteps[i,0]\n",
    "    zstep = timesteps[i,1]\n",
    "    #linear bias for galaxy sample, in our case Y1\n",
    "    b1=b1y1*Dgr(1)/Dgr(astep) #Bias for Y1\n",
    "    Shot = Veff(zstep, Om, biny1)/Nz(zstep, ay1, z0y1, NY1, biny1)\n",
    "    Pfid, kkk = p_ggmg(Om, h, ns, s8, fr0, n, zstep, b1, Shot)\n",
    "    Pfidint = interp1d(kkk, Pfid, kind='cubic')\n",
    "    Vol = Veff(zstep, Om, biny1)\n",
    "    #Start with Omh2 derivatives\n",
    "    Omh2up = Omh2 + Omstep\n",
    "    Omh2down = Omh2 - Omstep\n",
    "    Omup = Omh2up/h/h\n",
    "    Omdown = Omh2down/h/h\n",
    "    #Now we need to be careful. When Om changes, growth factor and Volume change, -> bias&shot noise change\n",
    "    y0up = [Damin(Omup, arange[0]),der0(Omup, arange[0])]\n",
    "    solup = odeint(growth, y0up, arange, args=(Omup,), atol=abserr, rtol=relerr)\n",
    "    #Spline GR growth factor  solution and growth rate.\n",
    "    Dgrup = interp1d(arange, solup[:,0], kind='cubic')\n",
    "    b1up=b1y1*Dgrup(1)/Dgrup(astep)\n",
    "    Shotup = Veff(zstep, Omup, biny1)/Nz(zstep, ay1, z0y1, NY1, biny1)\n",
    "    p_ggup, k = p_ggmg(Omup, h, ns, s8, fr0, n, zstep, b1up, Shotup)\n",
    "    #Do same for down\n",
    "    y0down = [Damin(Omdown, arange[0]),der0(Omdown, arange[0])]\n",
    "    soldown = odeint(growth, y0down, arange, args=(Omdown,), atol=abserr, rtol=relerr)\n",
    "    #Spline GR growth factor  solution and growth rate.\n",
    "    Dgrdown = interp1d(arange, soldown[:,0], kind='cubic')\n",
    "    b1down=b1y1*Dgrdown(1)/Dgrdown(astep)\n",
    "    Shotdown = Veff(zstep, Omdown, biny1)/Nz(zstep, ay1, z0y1, NY1, biny1)\n",
    "    p_ggdown, k = p_ggmg(Omdown, h, ns, s8, fr0, n, zstep, b1down, Shotdown)\n",
    "    #And evaluate derivative\n",
    "    derOmh = (p_ggup-p_ggdown)/2/Omstep\n",
    "    #dertot array for all derivatives to be stacked\n",
    "    dertot = derOmh\n",
    "    #print (derOmh)\n",
    "    #Now move on to sigma_8\n",
    "    s8up = s8 + s8step\n",
    "    p_ggup, k = p_ggmg(Om, h, ns, s8up, fr0, n, zstep, b1, Shot)\n",
    "    s8down = s8 - s8step\n",
    "    p_ggdown, k = p_ggmg(Om, h, ns, s8down, fr0, n, zstep, b1, Shot)\n",
    "    #derivative\n",
    "    ders8 = (p_ggup-p_ggdown)/2/s8step\n",
    "    dertot = np.vstack((dertot,ders8))\n",
    "    #print (dertot.shape)\n",
    "    #Now move on to n_s\n",
    "    nsup = ns + nsstep\n",
    "    p_ggup, k = p_ggmg(Om, h, nsup, s8, fr0, n, zstep, b1, Shot)\n",
    "    nsdown = ns - nsstep\n",
    "    p_ggdown, k = p_ggmg(Om, h, nsdown, s8, fr0, n, zstep, b1, Shot)\n",
    "    derns = (p_ggup-p_ggdown)/2/nsstep\n",
    "    dertot = np.vstack((dertot,derns))\n",
    "    #print (dertot.shape)  \n",
    "    #Now move on to fr0\n",
    "    fr0up = fr0 + fr0step\n",
    "    p_ggup, k = p_ggmg(Om, h, ns, s8, fr0up, n, zstep, b1, Shot)\n",
    "    fr0down = fr0 - fr0step\n",
    "    p_ggdown, k = p_ggmg(Om, h, ns, s8, fr0down, n, zstep, b1, Shot)\n",
    "    derfr = fr0*(p_ggup-p_ggdown)/2/fr0step\n",
    "    dertot = np.vstack((dertot,derfr)) \n",
    "    #print (dertot.shape)\n",
    "    #Now move on to n\n",
    "    nup = n + nstep\n",
    "    p_ggup, k = p_ggmg(Om, h, ns, s8, fr0, nup, zstep, b1, Shot)\n",
    "    ndown = n - nstep\n",
    "    p_ggdown, k = p_ggmg(Om, h, ns, s8, fr0, ndown, zstep, b1, Shot)\n",
    "    dern = (p_ggup-p_ggdown)/2/nstep\n",
    "    dertot = np.vstack((dertot,dern)) \n",
    "    #print (dertot.shape)\n",
    "    #Finally, do nuissance parameter b_1\n",
    "    b1up = b1 + b1step\n",
    "    p_ggup, k = p_ggmg(Om, h, ns, s8, fr0, n, zstep, b1up, Shot)\n",
    "    b1down = b1 - b1step\n",
    "    p_ggdown, k = p_ggmg(Om, h, ns, s8, fr0, n, zstep, b1down, Shot)\n",
    "    derb = (p_ggup-p_ggdown)/2/b1step\n",
    "    dertot = np.vstack((dertot,derb))    \n",
    "    #print (dertot.shape)\n",
    "    #print (dertot)\n",
    "    #Now that all the derivatives have been evaluated, it's time to import the covariance matrix for given z-snapshot\n",
    "    #covPMGmatz = np.loadtxt('./Covariance_data/covarianceY1_step_'+str(i)+'.txt')\n",
    "    #InvcovPMGmatz = ((Nseed-k.shape[0]-2)/(Nseed-1))*np.linalg.inv(covPMGmatz)[0:imax,0:imax]\n",
    "    dertot = dertot.T\n",
    "    for ii in range(npar):\n",
    "      for jj in range(npar):\n",
    "        #FY10tot[ii,jj] += np.dot(dertot[0:imax,ii],np.dot(InvcovPMGmatz,dertot[0:imax,jj]))\n",
    "        #Analytical approximation\n",
    "        der1int = interp1d(kvec, dertot[:,ii], kind='cubic')\n",
    "        der2int = interp1d(kvec, dertot[:,jj], kind='cubic')         \n",
    "        def integrandFisher(kk):\n",
    "         #construct splines of vectors, to make integrator happy   \n",
    "         return kk*kk*der1int(kk)*der2int(kk)/Pfidint(kk)/Pfidint(kk)\n",
    "        integrandFisher = np.vectorize(integrandFisher) \n",
    "        def Fisher_gaussian(imax):\n",
    "         return quad(integrandFisher, kvec[0], kvec[imax])[0]#*math.pow(10,-9)\n",
    "        Fisher_gaussian = np.vectorize(Fisher_gaussian)\n",
    "        FY1tot[ii,jj] += Vol*Fisher_gaussian(imax)/4/math.pi/math.pi"
   ]
  },
  {
   "cell_type": "code",
   "execution_count": null,
   "metadata": {
    "collapsed": true
   },
   "outputs": [],
   "source": [
    "np.savetxt('./Covariance_data/FisherzY1analk03.txt', FY1tot)"
   ]
  },
  {
   "cell_type": "code",
   "execution_count": null,
   "metadata": {},
   "outputs": [],
   "source": [
    "print (FY1tot)"
   ]
  },
  {
   "cell_type": "code",
   "execution_count": null,
   "metadata": {},
   "outputs": [],
   "source": [
    "h_l = 0.67\n",
    "Om_l = 0.3000\n",
    "Omb_l = 0.0260\n",
    "s8_l = 0.8200\n",
    "ns_l=0.9600\n",
    "print (Om_l-Omb_l)\n",
    "#a = 1./(1+z)\n",
    "#Now we have to be careful, because mgemu k-units are in h/Mpc, while CCL units are in 1/Mpc. convert\n",
    "#kccl = k*h\n",
    "#pk_nl = pyccl.nonlin_matter_power(cosmo, kccl, a)\n"
   ]
  },
  {
   "cell_type": "code",
   "execution_count": null,
   "metadata": {},
   "outputs": [],
   "source": [
    "kl, Pk97 = np.loadtxt('/Users/gev866/Downloads/Pk_97.txt', unpack=True)\n",
    "kl, Pk71 = np.loadtxt('/Users/gev866/Downloads/Pk_71.txt', unpack=True)\n",
    "kl, Pk36 = np.loadtxt('/Users/gev866/Downloads/Pk_36.txt', unpack=True)\n",
    "#print (kl, Pk97)\n",
    "a97=1.0/(1.0+0.019)\n",
    "#cosmo_l = pyccl.Cosmology(Omega_c=Om_l-Omb_l, Omega_b=Omb_l, h=h_l, sigma8=s8_l, n_s=ns_l, Neff=3.04, transfer_function='boltzmann_class', matter_power_spectrum='emu')\n",
    "pk_emu = pyccl.nonlin_matter_power(cosmo, kl, a97)"
   ]
  },
  {
   "cell_type": "code",
   "execution_count": null,
   "metadata": {},
   "outputs": [],
   "source": [
    "plt.figure('testing', figsize=(10, 7) )\n",
    "plt.tick_params(axis='both', which='major', labelsize=22)\n",
    "plt.title('COLA simulations')\n",
    "plt.plot(kl/h_l, Pk97, label = r'$z=0.02$', color='b')\n",
    "plt.plot(kl/h_l, Pk71, label = r'$z=0.38$', color='r')\n",
    "plt.plot(kl/h_l, Pk36, label = r'$z=1.62$', color='g')\n",
    "plt.plot(kl/h_l, pk_emu*h_l*h_l*h_l, label = 'CosmicEmu', color='c')\n",
    "plt.xscale('log')\n",
    "plt.yscale('log')\n",
    "plt.ylabel(r'$P_{m}(k)$', fontsize=23)\n",
    "plt.xlabel(r'$k$ (h/Mpc)', fontsize=23)\n",
    "plt.legend(fontsize=14)\n",
    "#plt.xlim(0.035, 3.5)\n",
    "#plt.ylim(1e3,)\n",
    "plt.show()"
   ]
  },
  {
   "cell_type": "code",
   "execution_count": null,
   "metadata": {
    "collapsed": true
   },
   "outputs": [],
   "source": []
  }
 ],
 "metadata": {
  "anaconda-cloud": {},
  "kernelspec": {
   "display_name": "Python [conda env:.conda-tf-test]",
   "language": "python",
   "name": "conda-env-.conda-tf-test-py"
  },
  "language_info": {
   "codemirror_mode": {
    "name": "ipython",
    "version": 3
   },
   "file_extension": ".py",
   "mimetype": "text/x-python",
   "name": "python",
   "nbconvert_exporter": "python",
   "pygments_lexer": "ipython3",
   "version": "3.6.8"
  }
 },
 "nbformat": 4,
 "nbformat_minor": 2
}
